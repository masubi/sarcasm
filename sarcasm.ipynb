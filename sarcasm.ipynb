{
 "cells": [
  {
   "cell_type": "code",
   "execution_count": 1,
   "metadata": {
    "colab": {
     "base_uri": "https://localhost:8080/",
     "height": 1000
    },
    "colab_type": "code",
    "executionInfo": {
     "elapsed": 41001812,
     "status": "ok",
     "timestamp": 1570702940111,
     "user": {
      "displayName": "Justin Masui",
      "photoUrl": "https://lh3.googleusercontent.com/a-/AAuE7mAqYNd35ntJR-uokWv_ZbHVaZ0hDMLz_PCI21XWqNM=s64",
      "userId": "13872986104507877375"
     },
     "user_tz": 420
    },
    "id": "jGwXGIXvFhXW",
    "outputId": "e31a13f3-6c0e-43fd-98d9-d49e41bb5ef2"
   },
   "outputs": [
    {
     "name": "stderr",
     "output_type": "stream",
     "text": [
      "/Library/Frameworks/Python.framework/Versions/3.7/lib/python3.7/site-packages/tensorflow/python/framework/dtypes.py:516: FutureWarning: Passing (type, 1) or '1type' as a synonym of type is deprecated; in a future version of numpy, it will be understood as (type, (1,)) / '(1,)type'.\n",
      "  _np_qint8 = np.dtype([(\"qint8\", np.int8, 1)])\n",
      "/Library/Frameworks/Python.framework/Versions/3.7/lib/python3.7/site-packages/tensorflow/python/framework/dtypes.py:517: FutureWarning: Passing (type, 1) or '1type' as a synonym of type is deprecated; in a future version of numpy, it will be understood as (type, (1,)) / '(1,)type'.\n",
      "  _np_quint8 = np.dtype([(\"quint8\", np.uint8, 1)])\n",
      "/Library/Frameworks/Python.framework/Versions/3.7/lib/python3.7/site-packages/tensorflow/python/framework/dtypes.py:518: FutureWarning: Passing (type, 1) or '1type' as a synonym of type is deprecated; in a future version of numpy, it will be understood as (type, (1,)) / '(1,)type'.\n",
      "  _np_qint16 = np.dtype([(\"qint16\", np.int16, 1)])\n",
      "/Library/Frameworks/Python.framework/Versions/3.7/lib/python3.7/site-packages/tensorflow/python/framework/dtypes.py:519: FutureWarning: Passing (type, 1) or '1type' as a synonym of type is deprecated; in a future version of numpy, it will be understood as (type, (1,)) / '(1,)type'.\n",
      "  _np_quint16 = np.dtype([(\"quint16\", np.uint16, 1)])\n",
      "/Library/Frameworks/Python.framework/Versions/3.7/lib/python3.7/site-packages/tensorflow/python/framework/dtypes.py:520: FutureWarning: Passing (type, 1) or '1type' as a synonym of type is deprecated; in a future version of numpy, it will be understood as (type, (1,)) / '(1,)type'.\n",
      "  _np_qint32 = np.dtype([(\"qint32\", np.int32, 1)])\n",
      "/Library/Frameworks/Python.framework/Versions/3.7/lib/python3.7/site-packages/tensorflow/python/framework/dtypes.py:525: FutureWarning: Passing (type, 1) or '1type' as a synonym of type is deprecated; in a future version of numpy, it will be understood as (type, (1,)) / '(1,)type'.\n",
      "  np_resource = np.dtype([(\"resource\", np.ubyte, 1)])\n"
     ]
    },
    {
     "name": "stdout",
     "output_type": "stream",
     "text": [
      "2.0.0-beta0\n"
     ]
    },
    {
     "name": "stderr",
     "output_type": "stream",
     "text": [
      "/Library/Frameworks/Python.framework/Versions/3.7/lib/python3.7/site-packages/tensorboard/compat/tensorflow_stub/dtypes.py:541: FutureWarning: Passing (type, 1) or '1type' as a synonym of type is deprecated; in a future version of numpy, it will be understood as (type, (1,)) / '(1,)type'.\n",
      "  _np_qint8 = np.dtype([(\"qint8\", np.int8, 1)])\n",
      "/Library/Frameworks/Python.framework/Versions/3.7/lib/python3.7/site-packages/tensorboard/compat/tensorflow_stub/dtypes.py:542: FutureWarning: Passing (type, 1) or '1type' as a synonym of type is deprecated; in a future version of numpy, it will be understood as (type, (1,)) / '(1,)type'.\n",
      "  _np_quint8 = np.dtype([(\"quint8\", np.uint8, 1)])\n",
      "/Library/Frameworks/Python.framework/Versions/3.7/lib/python3.7/site-packages/tensorboard/compat/tensorflow_stub/dtypes.py:543: FutureWarning: Passing (type, 1) or '1type' as a synonym of type is deprecated; in a future version of numpy, it will be understood as (type, (1,)) / '(1,)type'.\n",
      "  _np_qint16 = np.dtype([(\"qint16\", np.int16, 1)])\n",
      "/Library/Frameworks/Python.framework/Versions/3.7/lib/python3.7/site-packages/tensorboard/compat/tensorflow_stub/dtypes.py:544: FutureWarning: Passing (type, 1) or '1type' as a synonym of type is deprecated; in a future version of numpy, it will be understood as (type, (1,)) / '(1,)type'.\n",
      "  _np_quint16 = np.dtype([(\"quint16\", np.uint16, 1)])\n",
      "/Library/Frameworks/Python.framework/Versions/3.7/lib/python3.7/site-packages/tensorboard/compat/tensorflow_stub/dtypes.py:545: FutureWarning: Passing (type, 1) or '1type' as a synonym of type is deprecated; in a future version of numpy, it will be understood as (type, (1,)) / '(1,)type'.\n",
      "  _np_qint32 = np.dtype([(\"qint32\", np.int32, 1)])\n",
      "/Library/Frameworks/Python.framework/Versions/3.7/lib/python3.7/site-packages/tensorboard/compat/tensorflow_stub/dtypes.py:550: FutureWarning: Passing (type, 1) or '1type' as a synonym of type is deprecated; in a future version of numpy, it will be understood as (type, (1,)) / '(1,)type'.\n",
      "  np_resource = np.dtype([(\"resource\", np.ubyte, 1)])\n",
      "Using TensorFlow backend.\n"
     ]
    }
   ],
   "source": [
    "import json\n",
    "import tensorflow as tf\n",
    "from keras.optimizers import *\n",
    "\n",
    "from tensorflow.keras.preprocessing.text import Tokenizer\n",
    "from tensorflow.keras.preprocessing.sequence import pad_sequences\n",
    "\n",
    "print(tf.__version__)"
   ]
  },
  {
   "cell_type": "code",
   "execution_count": 2,
   "metadata": {
    "colab": {
     "base_uri": "https://localhost:8080/",
     "height": 1000
    },
    "colab_type": "code",
    "executionInfo": {
     "elapsed": 41001812,
     "status": "ok",
     "timestamp": 1570702940111,
     "user": {
      "displayName": "Justin Masui",
      "photoUrl": "https://lh3.googleusercontent.com/a-/AAuE7mAqYNd35ntJR-uokWv_ZbHVaZ0hDMLz_PCI21XWqNM=s64",
      "userId": "13872986104507877375"
     },
     "user_tz": 420
    },
    "id": "jGwXGIXvFhXW",
    "outputId": "e31a13f3-6c0e-43fd-98d9-d49e41bb5ef2"
   },
   "outputs": [
    {
     "name": "stdout",
     "output_type": "stream",
     "text": [
      "--2019-11-04 07:51:31--  https://storage.googleapis.com/laurencemoroney-blog.appspot.com/sarcasm.json\n",
      "Resolving storage.googleapis.com (storage.googleapis.com)... 2607:f8b0:4005:802::2010, 172.217.0.48\n",
      "Connecting to storage.googleapis.com (storage.googleapis.com)|2607:f8b0:4005:802::2010|:443... connected.\n",
      "HTTP request sent, awaiting response... 200 OK\n",
      "Length: 5643545 (5.4M) [application/json]\n",
      "Saving to: ‘/tmp/sarcasm.json’\n",
      "\n",
      "/tmp/sarcasm.json   100%[===================>]   5.38M  2.14MB/s    in 2.5s    \n",
      "\n",
      "2019-11-04 07:51:34 (2.14 MB/s) - ‘/tmp/sarcasm.json’ saved [5643545/5643545]\n",
      "\n"
     ]
    }
   ],
   "source": [
    "!wget --no-check-certificate \\\n",
    "    https://storage.googleapis.com/laurencemoroney-blog.appspot.com/sarcasm.json \\\n",
    "    -O /tmp/sarcasm.json"
   ]
  },
  {
   "cell_type": "code",
   "execution_count": 2,
   "metadata": {
    "colab": {
     "base_uri": "https://localhost:8080/",
     "height": 1000
    },
    "colab_type": "code",
    "executionInfo": {
     "elapsed": 41001812,
     "status": "ok",
     "timestamp": 1570702940111,
     "user": {
      "displayName": "Justin Masui",
      "photoUrl": "https://lh3.googleusercontent.com/a-/AAuE7mAqYNd35ntJR-uokWv_ZbHVaZ0hDMLz_PCI21XWqNM=s64",
      "userId": "13872986104507877375"
     },
     "user_tz": 420
    },
    "id": "jGwXGIXvFhXW",
    "outputId": "e31a13f3-6c0e-43fd-98d9-d49e41bb5ef2"
   },
   "outputs": [
    {
     "name": "stdout",
     "output_type": "stream",
     "text": [
      "training_padded: (20000, 120)\n",
      "[[328   1 799 ...   0   0   0]\n",
      " [  4   1   1 ...   0   0   0]\n",
      " [153 890   2 ...   0   0   0]\n",
      " ...\n",
      " [ 79   1   1 ...   0   0   0]\n",
      " [ 53   1   1 ...   0   0   0]\n",
      " [312 705   1 ...   0   0   0]]\n",
      "testing_padded: (6709, 120)\n",
      "[[  1   1   1 ...   0   0   0]\n",
      " [202   1   8 ...   0   0   0]\n",
      " [ 18 380 191 ...   0   0   0]\n",
      " ...\n",
      " [  1   9  67 ...   0   0   0]\n",
      " [  1 374   1 ...   0   0   0]\n",
      " [  1   1   6 ...   0   0   0]]\n"
     ]
    }
   ],
   "source": [
    "vocab_size = 1000\n",
    "embedding_dim = 16\n",
    "max_length = 120\n",
    "trunc_type='post'\n",
    "padding_type='post'\n",
    "oov_tok = \"<OOV>\"\n",
    "training_size = 20000\n",
    "batch_size=32\n",
    "epochs=50\n",
    "\n",
    "with open(\"./sarcasm_data.json\", 'r') as f:\n",
    "    datastore = json.load(f)\n",
    "\n",
    "\n",
    "sentences = []\n",
    "labels = []\n",
    "urls = []\n",
    "for item in datastore:\n",
    "    sentences.append(item['headline'])\n",
    "    labels.append(item['is_sarcastic'])\n",
    "\n",
    "training_sentences = sentences[0:training_size]\n",
    "testing_sentences = sentences[training_size:]\n",
    "training_labels = labels[0:training_size]\n",
    "testing_labels = labels[training_size:]\n",
    "\n",
    "tokenizer = Tokenizer(num_words=vocab_size, oov_token=oov_tok)\n",
    "tokenizer.fit_on_texts(training_sentences)\n",
    "\n",
    "word_index = tokenizer.word_index\n",
    "\n",
    "training_sequences = tokenizer.texts_to_sequences(training_sentences)\n",
    "training_padded = pad_sequences(training_sequences, maxlen=max_length, padding=padding_type, truncating=trunc_type)\n",
    "print(\"training_padded: \"+str(training_padded.shape))\n",
    "print(str(training_padded))\n",
    "\n",
    "testing_sequences = tokenizer.texts_to_sequences(testing_sentences)\n",
    "testing_padded = pad_sequences(testing_sequences, maxlen=max_length, padding=padding_type, truncating=trunc_type)\n",
    "print(\"testing_padded: \"+str(testing_padded.shape))\n",
    "print(str(testing_padded))\n"
   ]
  },
  {
   "cell_type": "code",
   "execution_count": 3,
   "metadata": {
    "colab": {
     "base_uri": "https://localhost:8080/",
     "height": 1000
    },
    "colab_type": "code",
    "executionInfo": {
     "elapsed": 41001812,
     "status": "ok",
     "timestamp": 1570702940111,
     "user": {
      "displayName": "Justin Masui",
      "photoUrl": "https://lh3.googleusercontent.com/a-/AAuE7mAqYNd35ntJR-uokWv_ZbHVaZ0hDMLz_PCI21XWqNM=s64",
      "userId": "13872986104507877375"
     },
     "user_tz": 420
    },
    "id": "jGwXGIXvFhXW",
    "outputId": "e31a13f3-6c0e-43fd-98d9-d49e41bb5ef2"
   },
   "outputs": [],
   "source": [
    "model = tf.keras.Sequential([\n",
    "    tf.keras.layers.Embedding(vocab_size, embedding_dim, input_length=max_length),\n",
    "    tf.keras.layers.Bidirectional(tf.keras.layers.LSTM(32, return_sequences=True)),\n",
    "    tf.keras.layers.Bidirectional(tf.keras.layers.LSTM(32, return_sequences=True)),\n",
    "    tf.keras.layers.Bidirectional(tf.keras.layers.LSTM(32)),\n",
    "    tf.keras.layers.Dense(128, activation='relu'),\n",
    "    tf.keras.layers.Dense(1, activation='sigmoid')\n",
    "])"
   ]
  },
  {
   "cell_type": "code",
   "execution_count": 4,
   "metadata": {
    "colab": {
     "base_uri": "https://localhost:8080/",
     "height": 1000
    },
    "colab_type": "code",
    "executionInfo": {
     "elapsed": 41001812,
     "status": "ok",
     "timestamp": 1570702940111,
     "user": {
      "displayName": "Justin Masui",
      "photoUrl": "https://lh3.googleusercontent.com/a-/AAuE7mAqYNd35ntJR-uokWv_ZbHVaZ0hDMLz_PCI21XWqNM=s64",
      "userId": "13872986104507877375"
     },
     "user_tz": 420
    },
    "id": "jGwXGIXvFhXW",
    "outputId": "e31a13f3-6c0e-43fd-98d9-d49e41bb5ef2"
   },
   "outputs": [
    {
     "name": "stdout",
     "output_type": "stream",
     "text": [
      "Model: \"sequential\"\n",
      "_________________________________________________________________\n",
      "Layer (type)                 Output Shape              Param #   \n",
      "=================================================================\n",
      "embedding (Embedding)        (None, 120, 16)           16000     \n",
      "_________________________________________________________________\n",
      "bidirectional (Bidirectional (None, 120, 64)           12544     \n",
      "_________________________________________________________________\n",
      "bidirectional_1 (Bidirection (None, 120, 64)           24832     \n",
      "_________________________________________________________________\n",
      "bidirectional_2 (Bidirection (None, 64)                24832     \n",
      "_________________________________________________________________\n",
      "dense (Dense)                (None, 128)               8320      \n",
      "_________________________________________________________________\n",
      "dense_1 (Dense)              (None, 1)                 129       \n",
      "=================================================================\n",
      "Total params: 86,657\n",
      "Trainable params: 86,657\n",
      "Non-trainable params: 0\n",
      "_________________________________________________________________\n"
     ]
    }
   ],
   "source": [
    "model.compile(loss='binary_crossentropy',optimizer='adam',metrics=['accuracy'])\n",
    "model.summary()"
   ]
  },
  {
   "cell_type": "code",
   "execution_count": 5,
   "metadata": {
    "colab": {
     "base_uri": "https://localhost:8080/",
     "height": 1000
    },
    "colab_type": "code",
    "executionInfo": {
     "elapsed": 41001812,
     "status": "ok",
     "timestamp": 1570702940111,
     "user": {
      "displayName": "Justin Masui",
      "photoUrl": "https://lh3.googleusercontent.com/a-/AAuE7mAqYNd35ntJR-uokWv_ZbHVaZ0hDMLz_PCI21XWqNM=s64",
      "userId": "13872986104507877375"
     },
     "user_tz": 420
    },
    "id": "jGwXGIXvFhXW",
    "outputId": "e31a13f3-6c0e-43fd-98d9-d49e41bb5ef2",
    "scrolled": true
   },
   "outputs": [
    {
     "name": "stdout",
     "output_type": "stream",
     "text": [
      "WARNING:tensorflow:From /Library/Frameworks/Python.framework/Versions/3.7/lib/python3.7/site-packages/tensorflow/python/ops/math_grad.py:1250: add_dispatch_support.<locals>.wrapper (from tensorflow.python.ops.array_ops) is deprecated and will be removed in a future version.\n",
      "Instructions for updating:\n",
      "Use tf.where in 2.0, which has the same broadcast rule as np.where\n",
      "Train on 20000 samples, validate on 6709 samples\n",
      "Epoch 1/50\n",
      "20000/20000 [==============================] - 140s 7ms/sample - loss: 0.4476 - accuracy: 0.7798 - val_loss: 0.3884 - val_accuracy: 0.8223\n",
      "Epoch 2/50\n",
      "20000/20000 [==============================] - 136s 7ms/sample - loss: 0.3546 - accuracy: 0.8381 - val_loss: 0.3737 - val_accuracy: 0.8290\n",
      "Epoch 3/50\n",
      "20000/20000 [==============================] - 131s 7ms/sample - loss: 0.3262 - accuracy: 0.8553 - val_loss: 0.3937 - val_accuracy: 0.8247\n",
      "Epoch 4/50\n",
      "20000/20000 [==============================] - 131s 7ms/sample - loss: 0.3089 - accuracy: 0.8649 - val_loss: 0.3911 - val_accuracy: 0.8295\n",
      "Epoch 5/50\n",
      "20000/20000 [==============================] - 129s 6ms/sample - loss: 0.3651 - accuracy: 0.8381 - val_loss: 0.4033 - val_accuracy: 0.8162\n",
      "Epoch 6/50\n",
      "20000/20000 [==============================] - 132s 7ms/sample - loss: 0.3205 - accuracy: 0.8576 - val_loss: 0.3787 - val_accuracy: 0.8325\n",
      "Epoch 7/50\n",
      "20000/20000 [==============================] - 127s 6ms/sample - loss: 0.2927 - accuracy: 0.8717 - val_loss: 0.3830 - val_accuracy: 0.8287\n",
      "Epoch 8/50\n",
      "20000/20000 [==============================] - 134s 7ms/sample - loss: 0.2815 - accuracy: 0.8789 - val_loss: 0.3891 - val_accuracy: 0.8284\n",
      "Epoch 9/50\n",
      "20000/20000 [==============================] - 132s 7ms/sample - loss: 0.2707 - accuracy: 0.8842 - val_loss: 0.3844 - val_accuracy: 0.8271\n",
      "Epoch 10/50\n",
      "20000/20000 [==============================] - 122s 6ms/sample - loss: 0.2634 - accuracy: 0.8887 - val_loss: 0.3940 - val_accuracy: 0.8267\n",
      "Epoch 11/50\n",
      "20000/20000 [==============================] - 120s 6ms/sample - loss: 0.2545 - accuracy: 0.8921 - val_loss: 0.4068 - val_accuracy: 0.8193\n",
      "Epoch 12/50\n",
      "20000/20000 [==============================] - 119s 6ms/sample - loss: 0.2487 - accuracy: 0.8952 - val_loss: 0.4278 - val_accuracy: 0.8238\n",
      "Epoch 13/50\n",
      "20000/20000 [==============================] - 119s 6ms/sample - loss: 0.2362 - accuracy: 0.9001 - val_loss: 0.4363 - val_accuracy: 0.8234\n",
      "Epoch 14/50\n",
      "20000/20000 [==============================] - 119s 6ms/sample - loss: 0.2271 - accuracy: 0.9060 - val_loss: 0.4559 - val_accuracy: 0.8119\n",
      "Epoch 15/50\n",
      "20000/20000 [==============================] - 119s 6ms/sample - loss: 0.2215 - accuracy: 0.9094 - val_loss: 0.4435 - val_accuracy: 0.8201\n",
      "Epoch 16/50\n",
      "20000/20000 [==============================] - 119s 6ms/sample - loss: 0.2151 - accuracy: 0.9115 - val_loss: 0.4820 - val_accuracy: 0.8117\n",
      "Epoch 17/50\n",
      "20000/20000 [==============================] - 120s 6ms/sample - loss: 0.2055 - accuracy: 0.9172 - val_loss: 0.4641 - val_accuracy: 0.8089\n",
      "Epoch 18/50\n",
      "20000/20000 [==============================] - 119s 6ms/sample - loss: 0.1985 - accuracy: 0.9182 - val_loss: 0.4823 - val_accuracy: 0.8150\n",
      "Epoch 19/50\n",
      "20000/20000 [==============================] - 123s 6ms/sample - loss: 0.1912 - accuracy: 0.9240 - val_loss: 0.5167 - val_accuracy: 0.8144\n",
      "Epoch 20/50\n",
      "20000/20000 [==============================] - 222s 11ms/sample - loss: 0.1872 - accuracy: 0.9243 - val_loss: 0.4915 - val_accuracy: 0.8149\n",
      "Epoch 21/50\n",
      "20000/20000 [==============================] - 199s 10ms/sample - loss: 0.2073 - accuracy: 0.9150 - val_loss: 0.4309 - val_accuracy: 0.8006\n",
      "Epoch 22/50\n",
      "20000/20000 [==============================] - 141s 7ms/sample - loss: 0.2419 - accuracy: 0.8971 - val_loss: 0.4871 - val_accuracy: 0.8046\n",
      "Epoch 23/50\n",
      "20000/20000 [==============================] - 120s 6ms/sample - loss: 0.2023 - accuracy: 0.9162 - val_loss: 0.5484 - val_accuracy: 0.8164\n",
      "Epoch 24/50\n",
      "20000/20000 [==============================] - 119s 6ms/sample - loss: 0.1843 - accuracy: 0.9254 - val_loss: 0.5554 - val_accuracy: 0.8091\n",
      "Epoch 25/50\n",
      "20000/20000 [==============================] - 118s 6ms/sample - loss: 0.1782 - accuracy: 0.9273 - val_loss: 0.5565 - val_accuracy: 0.8137\n",
      "Epoch 26/50\n",
      "20000/20000 [==============================] - 118s 6ms/sample - loss: 0.1704 - accuracy: 0.9317 - val_loss: 0.6035 - val_accuracy: 0.8077\n",
      "Epoch 27/50\n",
      "20000/20000 [==============================] - 118s 6ms/sample - loss: 0.1634 - accuracy: 0.9342 - val_loss: 0.6616 - val_accuracy: 0.8080\n",
      "Epoch 28/50\n",
      "20000/20000 [==============================] - 118s 6ms/sample - loss: 0.1572 - accuracy: 0.9370 - val_loss: 0.6604 - val_accuracy: 0.8053\n",
      "Epoch 29/50\n",
      "20000/20000 [==============================] - 118s 6ms/sample - loss: 0.1550 - accuracy: 0.9361 - val_loss: 0.6193 - val_accuracy: 0.8068\n",
      "Epoch 30/50\n",
      "20000/20000 [==============================] - 119s 6ms/sample - loss: 0.1457 - accuracy: 0.9409 - val_loss: 0.6981 - val_accuracy: 0.8125\n",
      "Epoch 31/50\n",
      "20000/20000 [==============================] - 119s 6ms/sample - loss: 0.1421 - accuracy: 0.9423 - val_loss: 0.7298 - val_accuracy: 0.8024\n",
      "Epoch 32/50\n",
      "20000/20000 [==============================] - 118s 6ms/sample - loss: 0.1420 - accuracy: 0.9423 - val_loss: 0.7393 - val_accuracy: 0.8031\n",
      "Epoch 33/50\n",
      "20000/20000 [==============================] - 118s 6ms/sample - loss: 0.1305 - accuracy: 0.9473 - val_loss: 0.7595 - val_accuracy: 0.8040\n",
      "Epoch 34/50\n",
      "20000/20000 [==============================] - 118s 6ms/sample - loss: 0.1300 - accuracy: 0.9470 - val_loss: 0.6898 - val_accuracy: 0.8086\n",
      "Epoch 35/50\n",
      "20000/20000 [==============================] - 118s 6ms/sample - loss: 0.1239 - accuracy: 0.9483 - val_loss: 0.7646 - val_accuracy: 0.8079\n",
      "Epoch 36/50\n",
      "20000/20000 [==============================] - 118s 6ms/sample - loss: 0.1180 - accuracy: 0.9508 - val_loss: 0.7993 - val_accuracy: 0.8082\n",
      "Epoch 37/50\n",
      "20000/20000 [==============================] - 118s 6ms/sample - loss: 0.1173 - accuracy: 0.9517 - val_loss: 0.8269 - val_accuracy: 0.8024\n",
      "Epoch 38/50\n",
      "20000/20000 [==============================] - 118s 6ms/sample - loss: 0.1123 - accuracy: 0.9528 - val_loss: 0.8774 - val_accuracy: 0.8110\n",
      "Epoch 39/50\n",
      "20000/20000 [==============================] - 118s 6ms/sample - loss: 0.1057 - accuracy: 0.9560 - val_loss: 0.8709 - val_accuracy: 0.8038\n",
      "Epoch 40/50\n",
      "20000/20000 [==============================] - 120s 6ms/sample - loss: 0.1041 - accuracy: 0.9568 - val_loss: 0.9102 - val_accuracy: 0.8013\n",
      "Epoch 41/50\n",
      "20000/20000 [==============================] - 118s 6ms/sample - loss: 0.1021 - accuracy: 0.9567 - val_loss: 0.8932 - val_accuracy: 0.8035\n",
      "Epoch 42/50\n",
      "20000/20000 [==============================] - 118s 6ms/sample - loss: 0.0933 - accuracy: 0.9602 - val_loss: 0.9438 - val_accuracy: 0.8062\n",
      "Epoch 43/50\n",
      "20000/20000 [==============================] - 118s 6ms/sample - loss: 0.0921 - accuracy: 0.9608 - val_loss: 0.9807 - val_accuracy: 0.7979\n",
      "Epoch 44/50\n",
      "20000/20000 [==============================] - 118s 6ms/sample - loss: 0.0900 - accuracy: 0.9608 - val_loss: 1.0400 - val_accuracy: 0.8056\n",
      "Epoch 45/50\n",
      "20000/20000 [==============================] - 118s 6ms/sample - loss: 0.0874 - accuracy: 0.9639 - val_loss: 1.1006 - val_accuracy: 0.8035\n",
      "Epoch 46/50\n",
      "20000/20000 [==============================] - 118s 6ms/sample - loss: 0.0843 - accuracy: 0.9629 - val_loss: 1.0316 - val_accuracy: 0.8004\n",
      "Epoch 47/50\n",
      "20000/20000 [==============================] - 118s 6ms/sample - loss: 0.0787 - accuracy: 0.9664 - val_loss: 1.1157 - val_accuracy: 0.7965\n",
      "Epoch 48/50\n",
      "20000/20000 [==============================] - 118s 6ms/sample - loss: 0.0793 - accuracy: 0.9650 - val_loss: 1.0942 - val_accuracy: 0.7967\n",
      "Epoch 49/50\n",
      "20000/20000 [==============================] - 118s 6ms/sample - loss: 0.0728 - accuracy: 0.9681 - val_loss: 1.2225 - val_accuracy: 0.7967\n",
      "Epoch 50/50\n",
      "20000/20000 [==============================] - 118s 6ms/sample - loss: 0.0675 - accuracy: 0.9704 - val_loss: 1.1535 - val_accuracy: 0.7934\n"
     ]
    }
   ],
   "source": [
    "history = model.fit(training_padded, \n",
    "                    training_labels, \n",
    "                    batch_size=batch_size, \n",
    "                    epochs=epochs, \n",
    "                    validation_data=(testing_padded, testing_labels),\n",
    "                    verbose=1)"
   ]
  },
  {
   "cell_type": "code",
   "execution_count": 6,
   "metadata": {
    "colab": {
     "base_uri": "https://localhost:8080/",
     "height": 549
    },
    "colab_type": "code",
    "executionInfo": {
     "elapsed": 13196981,
     "status": "ok",
     "timestamp": 1570648203202,
     "user": {
      "displayName": "Justin Masui",
      "photoUrl": "https://lh3.googleusercontent.com/a-/AAuE7mAqYNd35ntJR-uokWv_ZbHVaZ0hDMLz_PCI21XWqNM=s64",
      "userId": "13872986104507877375"
     },
     "user_tz": 420
    },
    "id": "g9DC6dmLF8DC",
    "outputId": "61b16ddd-66ba-4d1c-d0ef-ee410d0f6b6f"
   },
   "outputs": [
    {
     "ename": "KeyError",
     "evalue": "'acc'",
     "output_type": "error",
     "traceback": [
      "\u001b[0;31m---------------------------------------------------------------------------\u001b[0m",
      "\u001b[0;31mKeyError\u001b[0m                                  Traceback (most recent call last)",
      "\u001b[0;32m<ipython-input-6-74c9dcc004a8>\u001b[0m in \u001b[0;36m<module>\u001b[0;34m\u001b[0m\n\u001b[1;32m     10\u001b[0m   \u001b[0mplt\u001b[0m\u001b[0;34m.\u001b[0m\u001b[0mshow\u001b[0m\u001b[0;34m(\u001b[0m\u001b[0;34m)\u001b[0m\u001b[0;34m\u001b[0m\u001b[0;34m\u001b[0m\u001b[0m\n\u001b[1;32m     11\u001b[0m \u001b[0;34m\u001b[0m\u001b[0m\n\u001b[0;32m---> 12\u001b[0;31m \u001b[0mplot_graphs\u001b[0m\u001b[0;34m(\u001b[0m\u001b[0mhistory\u001b[0m\u001b[0;34m,\u001b[0m \u001b[0;34m'acc'\u001b[0m\u001b[0;34m)\u001b[0m\u001b[0;34m\u001b[0m\u001b[0;34m\u001b[0m\u001b[0m\n\u001b[0m\u001b[1;32m     13\u001b[0m \u001b[0mplot_graphs\u001b[0m\u001b[0;34m(\u001b[0m\u001b[0mhistory\u001b[0m\u001b[0;34m,\u001b[0m \u001b[0;34m'loss'\u001b[0m\u001b[0;34m)\u001b[0m\u001b[0;34m\u001b[0m\u001b[0;34m\u001b[0m\u001b[0m\n",
      "\u001b[0;32m<ipython-input-6-74c9dcc004a8>\u001b[0m in \u001b[0;36mplot_graphs\u001b[0;34m(history, string)\u001b[0m\n\u001b[1;32m      3\u001b[0m \u001b[0;34m\u001b[0m\u001b[0m\n\u001b[1;32m      4\u001b[0m \u001b[0;32mdef\u001b[0m \u001b[0mplot_graphs\u001b[0m\u001b[0;34m(\u001b[0m\u001b[0mhistory\u001b[0m\u001b[0;34m,\u001b[0m \u001b[0mstring\u001b[0m\u001b[0;34m)\u001b[0m\u001b[0;34m:\u001b[0m\u001b[0;34m\u001b[0m\u001b[0;34m\u001b[0m\u001b[0m\n\u001b[0;32m----> 5\u001b[0;31m   \u001b[0mplt\u001b[0m\u001b[0;34m.\u001b[0m\u001b[0mplot\u001b[0m\u001b[0;34m(\u001b[0m\u001b[0mhistory\u001b[0m\u001b[0;34m.\u001b[0m\u001b[0mhistory\u001b[0m\u001b[0;34m[\u001b[0m\u001b[0mstring\u001b[0m\u001b[0;34m]\u001b[0m\u001b[0;34m)\u001b[0m\u001b[0;34m\u001b[0m\u001b[0;34m\u001b[0m\u001b[0m\n\u001b[0m\u001b[1;32m      6\u001b[0m   \u001b[0mplt\u001b[0m\u001b[0;34m.\u001b[0m\u001b[0mplot\u001b[0m\u001b[0;34m(\u001b[0m\u001b[0mhistory\u001b[0m\u001b[0;34m.\u001b[0m\u001b[0mhistory\u001b[0m\u001b[0;34m[\u001b[0m\u001b[0;34m'val_'\u001b[0m\u001b[0;34m+\u001b[0m\u001b[0mstring\u001b[0m\u001b[0;34m]\u001b[0m\u001b[0;34m)\u001b[0m\u001b[0;34m\u001b[0m\u001b[0;34m\u001b[0m\u001b[0m\n\u001b[1;32m      7\u001b[0m   \u001b[0mplt\u001b[0m\u001b[0;34m.\u001b[0m\u001b[0mxlabel\u001b[0m\u001b[0;34m(\u001b[0m\u001b[0;34m\"Epochs\"\u001b[0m\u001b[0;34m)\u001b[0m\u001b[0;34m\u001b[0m\u001b[0;34m\u001b[0m\u001b[0m\n",
      "\u001b[0;31mKeyError\u001b[0m: 'acc'"
     ]
    }
   ],
   "source": [
    "import matplotlib.pyplot as plt\n",
    "\n",
    "\n",
    "def plot_graphs(history, string):\n",
    "  plt.plot(history.history[string])\n",
    "  plt.plot(history.history['val_'+string])\n",
    "  plt.xlabel(\"Epochs\")\n",
    "  plt.ylabel(string)\n",
    "  plt.legend([string, 'val_'+string])\n",
    "  plt.show()\n",
    "\n",
    "plot_graphs(history, 'acc')\n",
    "plot_graphs(history, 'loss')"
   ]
  },
  {
   "cell_type": "code",
   "execution_count": null,
   "metadata": {
    "colab": {},
    "colab_type": "code",
    "id": "7ZEZIUppGhdi"
   },
   "outputs": [],
   "source": [
    "model.save(\"test.h5\")"
   ]
  }
 ],
 "metadata": {
  "accelerator": "GPU",
  "colab": {
   "collapsed_sections": [],
   "name": "NLP_w3_sarcasm_bi_lstm.ipynb",
   "provenance": [
    {
     "file_id": "https://github.com/lmoroney/dlaicourse/blob/master/TensorFlow%20In%20Practice/Course%203%20-%20NLP/Course%203%20-%20Week%203%20-%20Lesson%202.ipynb",
     "timestamp": 1570589102457
    },
    {
     "file_id": "1OOzqEhzmkFQOtmEGwMhiLxB_D2osx4eM",
     "timestamp": 1556803950670
    }
   ]
  },
  "kernelspec": {
   "display_name": "Python 3",
   "language": "python",
   "name": "python3"
  },
  "language_info": {
   "codemirror_mode": {
    "name": "ipython",
    "version": 3
   },
   "file_extension": ".py",
   "mimetype": "text/x-python",
   "name": "python",
   "nbconvert_exporter": "python",
   "pygments_lexer": "ipython3",
   "version": "3.7.4"
  }
 },
 "nbformat": 4,
 "nbformat_minor": 1
}
