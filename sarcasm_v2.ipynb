{
 "cells": [
  {
   "cell_type": "code",
   "execution_count": 1,
   "metadata": {},
   "outputs": [],
   "source": [
    "#!pip install tensorflow==2.0.0b1\n"
   ]
  },
  {
   "cell_type": "code",
   "execution_count": 2,
   "metadata": {
    "colab": {
     "base_uri": "https://localhost:8080/",
     "height": 1000
    },
    "colab_type": "code",
    "executionInfo": {
     "elapsed": 41001812,
     "status": "ok",
     "timestamp": 1570702940111,
     "user": {
      "displayName": "Justin Masui",
      "photoUrl": "https://lh3.googleusercontent.com/a-/AAuE7mAqYNd35ntJR-uokWv_ZbHVaZ0hDMLz_PCI21XWqNM=s64",
      "userId": "13872986104507877375"
     },
     "user_tz": 420
    },
    "id": "jGwXGIXvFhXW",
    "outputId": "e31a13f3-6c0e-43fd-98d9-d49e41bb5ef2"
   },
   "outputs": [
    {
     "name": "stderr",
     "output_type": "stream",
     "text": [
      "/Library/Frameworks/Python.framework/Versions/3.7/lib/python3.7/site-packages/tensorflow/python/framework/dtypes.py:516: FutureWarning: Passing (type, 1) or '1type' as a synonym of type is deprecated; in a future version of numpy, it will be understood as (type, (1,)) / '(1,)type'.\n",
      "  _np_qint8 = np.dtype([(\"qint8\", np.int8, 1)])\n",
      "/Library/Frameworks/Python.framework/Versions/3.7/lib/python3.7/site-packages/tensorflow/python/framework/dtypes.py:517: FutureWarning: Passing (type, 1) or '1type' as a synonym of type is deprecated; in a future version of numpy, it will be understood as (type, (1,)) / '(1,)type'.\n",
      "  _np_quint8 = np.dtype([(\"quint8\", np.uint8, 1)])\n",
      "/Library/Frameworks/Python.framework/Versions/3.7/lib/python3.7/site-packages/tensorflow/python/framework/dtypes.py:518: FutureWarning: Passing (type, 1) or '1type' as a synonym of type is deprecated; in a future version of numpy, it will be understood as (type, (1,)) / '(1,)type'.\n",
      "  _np_qint16 = np.dtype([(\"qint16\", np.int16, 1)])\n",
      "/Library/Frameworks/Python.framework/Versions/3.7/lib/python3.7/site-packages/tensorflow/python/framework/dtypes.py:519: FutureWarning: Passing (type, 1) or '1type' as a synonym of type is deprecated; in a future version of numpy, it will be understood as (type, (1,)) / '(1,)type'.\n",
      "  _np_quint16 = np.dtype([(\"quint16\", np.uint16, 1)])\n",
      "/Library/Frameworks/Python.framework/Versions/3.7/lib/python3.7/site-packages/tensorflow/python/framework/dtypes.py:520: FutureWarning: Passing (type, 1) or '1type' as a synonym of type is deprecated; in a future version of numpy, it will be understood as (type, (1,)) / '(1,)type'.\n",
      "  _np_qint32 = np.dtype([(\"qint32\", np.int32, 1)])\n",
      "/Library/Frameworks/Python.framework/Versions/3.7/lib/python3.7/site-packages/tensorflow/python/framework/dtypes.py:525: FutureWarning: Passing (type, 1) or '1type' as a synonym of type is deprecated; in a future version of numpy, it will be understood as (type, (1,)) / '(1,)type'.\n",
      "  np_resource = np.dtype([(\"resource\", np.ubyte, 1)])\n"
     ]
    },
    {
     "name": "stdout",
     "output_type": "stream",
     "text": [
      "2.0.0-beta0\n"
     ]
    },
    {
     "name": "stderr",
     "output_type": "stream",
     "text": [
      "/Library/Frameworks/Python.framework/Versions/3.7/lib/python3.7/site-packages/tensorboard/compat/tensorflow_stub/dtypes.py:541: FutureWarning: Passing (type, 1) or '1type' as a synonym of type is deprecated; in a future version of numpy, it will be understood as (type, (1,)) / '(1,)type'.\n",
      "  _np_qint8 = np.dtype([(\"qint8\", np.int8, 1)])\n",
      "/Library/Frameworks/Python.framework/Versions/3.7/lib/python3.7/site-packages/tensorboard/compat/tensorflow_stub/dtypes.py:542: FutureWarning: Passing (type, 1) or '1type' as a synonym of type is deprecated; in a future version of numpy, it will be understood as (type, (1,)) / '(1,)type'.\n",
      "  _np_quint8 = np.dtype([(\"quint8\", np.uint8, 1)])\n",
      "/Library/Frameworks/Python.framework/Versions/3.7/lib/python3.7/site-packages/tensorboard/compat/tensorflow_stub/dtypes.py:543: FutureWarning: Passing (type, 1) or '1type' as a synonym of type is deprecated; in a future version of numpy, it will be understood as (type, (1,)) / '(1,)type'.\n",
      "  _np_qint16 = np.dtype([(\"qint16\", np.int16, 1)])\n",
      "/Library/Frameworks/Python.framework/Versions/3.7/lib/python3.7/site-packages/tensorboard/compat/tensorflow_stub/dtypes.py:544: FutureWarning: Passing (type, 1) or '1type' as a synonym of type is deprecated; in a future version of numpy, it will be understood as (type, (1,)) / '(1,)type'.\n",
      "  _np_quint16 = np.dtype([(\"quint16\", np.uint16, 1)])\n",
      "/Library/Frameworks/Python.framework/Versions/3.7/lib/python3.7/site-packages/tensorboard/compat/tensorflow_stub/dtypes.py:545: FutureWarning: Passing (type, 1) or '1type' as a synonym of type is deprecated; in a future version of numpy, it will be understood as (type, (1,)) / '(1,)type'.\n",
      "  _np_qint32 = np.dtype([(\"qint32\", np.int32, 1)])\n",
      "/Library/Frameworks/Python.framework/Versions/3.7/lib/python3.7/site-packages/tensorboard/compat/tensorflow_stub/dtypes.py:550: FutureWarning: Passing (type, 1) or '1type' as a synonym of type is deprecated; in a future version of numpy, it will be understood as (type, (1,)) / '(1,)type'.\n",
      "  np_resource = np.dtype([(\"resource\", np.ubyte, 1)])\n",
      "Using TensorFlow backend.\n"
     ]
    }
   ],
   "source": [
    "import json\n",
    "import tensorflow as tf\n",
    "from keras.optimizers import *\n",
    "\n",
    "from tensorflow.keras.preprocessing.text import Tokenizer\n",
    "from tensorflow.keras.preprocessing.sequence import pad_sequences\n",
    "\n",
    "print(tf.__version__)"
   ]
  },
  {
   "cell_type": "code",
   "execution_count": 3,
   "metadata": {},
   "outputs": [],
   "source": [
    "vocab_size = 10000\n",
    "embedding_dim = 16\n",
    "max_length = 120\n",
    "trunc_type='post'\n",
    "padding_type='post'\n",
    "oov_tok = \"<OOV>\"\n",
    "training_size = 20000\n",
    "batch_size=32\n",
    "epochs=50\n",
    "\n",
    "version=2\n",
    "download_data=False\n",
    "load_weights=False\n",
    "do_training=True\n",
    "save_model=True\n",
    "model_file=\"sarcasm_model\"+\"_v\"+str(version)+\".h5\""
   ]
  },
  {
   "cell_type": "code",
   "execution_count": 4,
   "metadata": {},
   "outputs": [],
   "source": [
    "if(download_data):\n",
    "    !wget --no-check-certificate \\\n",
    "    https://storage.googleapis.com/laurencemoroney-blog.appspot.com/sarcasm.json \\\n",
    "    -O /tmp/sarcasm.json\n",
    "        \n",
    "with open(\"./data/sarcasm_data.json\", 'r') as f:\n",
    "    datastore = json.load(f)\n",
    "    "
   ]
  },
  {
   "cell_type": "code",
   "execution_count": 5,
   "metadata": {
    "colab": {
     "base_uri": "https://localhost:8080/",
     "height": 1000
    },
    "colab_type": "code",
    "executionInfo": {
     "elapsed": 41001812,
     "status": "ok",
     "timestamp": 1570702940111,
     "user": {
      "displayName": "Justin Masui",
      "photoUrl": "https://lh3.googleusercontent.com/a-/AAuE7mAqYNd35ntJR-uokWv_ZbHVaZ0hDMLz_PCI21XWqNM=s64",
      "userId": "13872986104507877375"
     },
     "user_tz": 420
    },
    "id": "jGwXGIXvFhXW",
    "outputId": "e31a13f3-6c0e-43fd-98d9-d49e41bb5ef2"
   },
   "outputs": [
    {
     "name": "stdout",
     "output_type": "stream",
     "text": [
      "['pediatricians announce 2011 newborns are ugliest babies in 30 years', \"don't rely on your fitness tracker to lose weight\", 'you might want to cut back on the soap', 'bausch & lomb introduces line of aviator contacts', '7 everyday habits for glowing, younger-looking skin']\n",
      "[1, 0, 0, 1, 0]\n",
      "training_padded: (20000, 120)\n",
      "testing_padded: (6709, 120)\n"
     ]
    }
   ],
   "source": [
    "sentences = []\n",
    "labels = []\n",
    "urls = []\n",
    "for item in datastore:\n",
    "    sentences.append(item['headline'])\n",
    "    labels.append(item['is_sarcastic'])\n",
    "\n",
    "training_sentences = sentences[0:training_size]\n",
    "testing_sentences = sentences[training_size:]\n",
    "training_labels = labels[0:training_size]\n",
    "testing_labels = labels[training_size:]\n",
    "print(testing_sentences[0:5])\n",
    "print(testing_labels[0:5])\n",
    "\n",
    "tokenizer = Tokenizer(num_words=vocab_size, oov_token=oov_tok)\n",
    "tokenizer.fit_on_texts(training_sentences)\n",
    "\n",
    "word_index = tokenizer.word_index\n",
    "\n",
    "def sentencesToPaddedSequences(sentences):\n",
    "    sequences = tokenizer.texts_to_sequences(sentences)\n",
    "    padded_sequences = pad_sequences(sequences, maxlen=max_length, padding=padding_type, truncating=trunc_type)\n",
    "    return padded_sequences\n",
    "\n",
    "training_padded = sentencesToPaddedSequences(training_sentences)\n",
    "print(\"training_padded: \"+str(training_padded.shape))\n",
    "#print(str(training_padded))\n",
    "\n",
    "testing_sequences = tokenizer.texts_to_sequences(testing_sentences)\n",
    "testing_padded = sentencesToPaddedSequences(testing_sentences)\n",
    "print(\"testing_padded: \"+str(testing_padded.shape))\n",
    "#print(str(testing_padded))\n"
   ]
  },
  {
   "cell_type": "code",
   "execution_count": 6,
   "metadata": {
    "colab": {
     "base_uri": "https://localhost:8080/",
     "height": 1000
    },
    "colab_type": "code",
    "executionInfo": {
     "elapsed": 41001812,
     "status": "ok",
     "timestamp": 1570702940111,
     "user": {
      "displayName": "Justin Masui",
      "photoUrl": "https://lh3.googleusercontent.com/a-/AAuE7mAqYNd35ntJR-uokWv_ZbHVaZ0hDMLz_PCI21XWqNM=s64",
      "userId": "13872986104507877375"
     },
     "user_tz": 420
    },
    "id": "jGwXGIXvFhXW",
    "outputId": "e31a13f3-6c0e-43fd-98d9-d49e41bb5ef2"
   },
   "outputs": [],
   "source": [
    "model = tf.keras.Sequential([\n",
    "    tf.keras.layers.Embedding(vocab_size, embedding_dim, input_length=max_length),\n",
    "    tf.keras.layers.Bidirectional(tf.keras.layers.LSTM(128, return_sequences=True)),\n",
    "    tf.keras.layers.Bidirectional(tf.keras.layers.LSTM(128, return_sequences=True)),\n",
    "    tf.keras.layers.Bidirectional(tf.keras.layers.LSTM(128)),\n",
    "    tf.keras.layers.Dense(128, activation='relu'),\n",
    "    tf.keras.layers.Dense(1, activation='sigmoid')\n",
    "])"
   ]
  },
  {
   "cell_type": "code",
   "execution_count": 7,
   "metadata": {},
   "outputs": [],
   "source": [
    "if(load_weights):\n",
    "    print(\"loading weights from: \"+model_file)\n",
    "    model.load_weights(model_file)\n",
    "    print(\"weights: \")\n",
    "    #print(str(model.get_weights()))\n",
    "    print(\"loading weights complete!\")"
   ]
  },
  {
   "cell_type": "code",
   "execution_count": 8,
   "metadata": {
    "colab": {
     "base_uri": "https://localhost:8080/",
     "height": 1000
    },
    "colab_type": "code",
    "executionInfo": {
     "elapsed": 41001812,
     "status": "ok",
     "timestamp": 1570702940111,
     "user": {
      "displayName": "Justin Masui",
      "photoUrl": "https://lh3.googleusercontent.com/a-/AAuE7mAqYNd35ntJR-uokWv_ZbHVaZ0hDMLz_PCI21XWqNM=s64",
      "userId": "13872986104507877375"
     },
     "user_tz": 420
    },
    "id": "jGwXGIXvFhXW",
    "outputId": "e31a13f3-6c0e-43fd-98d9-d49e41bb5ef2"
   },
   "outputs": [
    {
     "name": "stdout",
     "output_type": "stream",
     "text": [
      "Model: \"sequential\"\n",
      "_________________________________________________________________\n",
      "Layer (type)                 Output Shape              Param #   \n",
      "=================================================================\n",
      "embedding (Embedding)        (None, 120, 16)           160000    \n",
      "_________________________________________________________________\n",
      "bidirectional (Bidirectional (None, 120, 256)          148480    \n",
      "_________________________________________________________________\n",
      "bidirectional_1 (Bidirection (None, 120, 256)          394240    \n",
      "_________________________________________________________________\n",
      "bidirectional_2 (Bidirection (None, 256)               394240    \n",
      "_________________________________________________________________\n",
      "dense (Dense)                (None, 128)               32896     \n",
      "_________________________________________________________________\n",
      "dense_1 (Dense)              (None, 1)                 129       \n",
      "=================================================================\n",
      "Total params: 1,129,985\n",
      "Trainable params: 1,129,985\n",
      "Non-trainable params: 0\n",
      "_________________________________________________________________\n"
     ]
    }
   ],
   "source": [
    "model.compile(loss='binary_crossentropy',optimizer='adam',metrics=['accuracy'])\n",
    "model.summary()"
   ]
  },
  {
   "cell_type": "code",
   "execution_count": 9,
   "metadata": {
    "colab": {
     "base_uri": "https://localhost:8080/",
     "height": 1000
    },
    "colab_type": "code",
    "executionInfo": {
     "elapsed": 41001812,
     "status": "ok",
     "timestamp": 1570702940111,
     "user": {
      "displayName": "Justin Masui",
      "photoUrl": "https://lh3.googleusercontent.com/a-/AAuE7mAqYNd35ntJR-uokWv_ZbHVaZ0hDMLz_PCI21XWqNM=s64",
      "userId": "13872986104507877375"
     },
     "user_tz": 420
    },
    "id": "jGwXGIXvFhXW",
    "outputId": "e31a13f3-6c0e-43fd-98d9-d49e41bb5ef2",
    "scrolled": true
   },
   "outputs": [
    {
     "name": "stdout",
     "output_type": "stream",
     "text": [
      "WARNING:tensorflow:From /Library/Frameworks/Python.framework/Versions/3.7/lib/python3.7/site-packages/tensorflow/python/ops/math_grad.py:1250: add_dispatch_support.<locals>.wrapper (from tensorflow.python.ops.array_ops) is deprecated and will be removed in a future version.\n",
      "Instructions for updating:\n",
      "Use tf.where in 2.0, which has the same broadcast rule as np.where\n",
      "Train on 20000 samples, validate on 6709 samples\n",
      "Epoch 1/50\n",
      "20000/20000 [==============================] - 310s 15ms/sample - loss: 0.4056 - accuracy: 0.8075 - val_loss: 0.3390 - val_accuracy: 0.8512\n",
      "Epoch 2/50\n",
      "20000/20000 [==============================] - 304s 15ms/sample - loss: 0.2237 - accuracy: 0.9093 - val_loss: 0.3383 - val_accuracy: 0.8509\n",
      "Epoch 3/50\n",
      "20000/20000 [==============================] - 308s 15ms/sample - loss: 0.1467 - accuracy: 0.9442 - val_loss: 0.3950 - val_accuracy: 0.8498\n",
      "Epoch 4/50\n",
      "20000/20000 [==============================] - 306s 15ms/sample - loss: 0.0927 - accuracy: 0.9674 - val_loss: 0.5280 - val_accuracy: 0.8459\n",
      "Epoch 5/50\n",
      "20000/20000 [==============================] - 307s 15ms/sample - loss: 0.0559 - accuracy: 0.9804 - val_loss: 0.6905 - val_accuracy: 0.8362\n",
      "Epoch 6/50\n",
      "20000/20000 [==============================] - 296s 15ms/sample - loss: 0.0334 - accuracy: 0.9889 - val_loss: 0.6412 - val_accuracy: 0.8384\n",
      "Epoch 7/50\n",
      "20000/20000 [==============================] - 302s 15ms/sample - loss: 0.0219 - accuracy: 0.9930 - val_loss: 0.7914 - val_accuracy: 0.8395\n",
      "Epoch 8/50\n",
      "20000/20000 [==============================] - 304s 15ms/sample - loss: 0.0186 - accuracy: 0.9940 - val_loss: 0.8600 - val_accuracy: 0.8384\n",
      "Epoch 9/50\n",
      "20000/20000 [==============================] - 301s 15ms/sample - loss: 0.0158 - accuracy: 0.9950 - val_loss: 0.8636 - val_accuracy: 0.8383\n",
      "Epoch 10/50\n",
      "20000/20000 [==============================] - 299s 15ms/sample - loss: 0.0093 - accuracy: 0.9970 - val_loss: 0.9654 - val_accuracy: 0.8328\n",
      "Epoch 11/50\n",
      "20000/20000 [==============================] - 302s 15ms/sample - loss: 0.0132 - accuracy: 0.9955 - val_loss: 0.9144 - val_accuracy: 0.8363\n",
      "Epoch 12/50\n",
      "20000/20000 [==============================] - 302s 15ms/sample - loss: 0.0099 - accuracy: 0.9966 - val_loss: 1.2293 - val_accuracy: 0.8398\n",
      "Epoch 13/50\n",
      "20000/20000 [==============================] - 304s 15ms/sample - loss: 0.0095 - accuracy: 0.9966 - val_loss: 1.0330 - val_accuracy: 0.8274\n",
      "Epoch 14/50\n",
      "20000/20000 [==============================] - 300s 15ms/sample - loss: 0.0079 - accuracy: 0.9974 - val_loss: 1.0518 - val_accuracy: 0.8340\n",
      "Epoch 15/50\n",
      "20000/20000 [==============================] - 302s 15ms/sample - loss: 0.0066 - accuracy: 0.9980 - val_loss: 1.0770 - val_accuracy: 0.8292\n",
      "Epoch 16/50\n",
      "20000/20000 [==============================] - 301s 15ms/sample - loss: 0.0078 - accuracy: 0.9979 - val_loss: 0.9613 - val_accuracy: 0.8277\n",
      "Epoch 17/50\n",
      "20000/20000 [==============================] - 298s 15ms/sample - loss: 0.0063 - accuracy: 0.9980 - val_loss: 1.1025 - val_accuracy: 0.8284\n",
      "Epoch 18/50\n",
      "20000/20000 [==============================] - 304s 15ms/sample - loss: 0.0069 - accuracy: 0.9977 - val_loss: 1.0373 - val_accuracy: 0.8271\n",
      "Epoch 19/50\n",
      "20000/20000 [==============================] - 301s 15ms/sample - loss: 0.0066 - accuracy: 0.9980 - val_loss: 0.9856 - val_accuracy: 0.8402\n",
      "Epoch 20/50\n",
      "20000/20000 [==============================] - 303s 15ms/sample - loss: 0.0054 - accuracy: 0.9981 - val_loss: 1.1861 - val_accuracy: 0.8250\n",
      "Epoch 21/50\n",
      "20000/20000 [==============================] - 303s 15ms/sample - loss: 0.0050 - accuracy: 0.9987 - val_loss: 1.2774 - val_accuracy: 0.8340\n",
      "Epoch 22/50\n",
      "20000/20000 [==============================] - 307s 15ms/sample - loss: 0.0043 - accuracy: 0.9987 - val_loss: 1.2113 - val_accuracy: 0.8283\n",
      "Epoch 23/50\n",
      "20000/20000 [==============================] - 315s 16ms/sample - loss: 0.0034 - accuracy: 0.9990 - val_loss: 1.2339 - val_accuracy: 0.8271\n",
      "Epoch 24/50\n",
      "20000/20000 [==============================] - 310s 15ms/sample - loss: 0.0049 - accuracy: 0.9987 - val_loss: 1.0032 - val_accuracy: 0.8308\n",
      "Epoch 25/50\n",
      "20000/20000 [==============================] - 299s 15ms/sample - loss: 0.0047 - accuracy: 0.9980 - val_loss: 1.4636 - val_accuracy: 0.8283\n",
      "Epoch 26/50\n",
      "20000/20000 [==============================] - 304s 15ms/sample - loss: 0.0038 - accuracy: 0.9988 - val_loss: 1.2755 - val_accuracy: 0.8346\n",
      "Epoch 27/50\n",
      "20000/20000 [==============================] - 301s 15ms/sample - loss: 0.0025 - accuracy: 0.9992 - val_loss: 1.3818 - val_accuracy: 0.8356\n",
      "Epoch 28/50\n",
      "20000/20000 [==============================] - 303s 15ms/sample - loss: 0.0023 - accuracy: 0.9991 - val_loss: 1.2422 - val_accuracy: 0.8281\n",
      "Epoch 29/50\n",
      "20000/20000 [==============================] - 300s 15ms/sample - loss: 0.0010 - accuracy: 0.9997 - val_loss: 1.5246 - val_accuracy: 0.8298\n",
      "Epoch 30/50\n",
      "20000/20000 [==============================] - 302s 15ms/sample - loss: 0.0013 - accuracy: 0.9995 - val_loss: 1.3397 - val_accuracy: 0.8287\n",
      "Epoch 31/50\n",
      "20000/20000 [==============================] - 303s 15ms/sample - loss: 0.0028 - accuracy: 0.9993 - val_loss: 1.0533 - val_accuracy: 0.8208\n",
      "Epoch 32/50\n",
      "20000/20000 [==============================] - 301s 15ms/sample - loss: 0.0064 - accuracy: 0.9977 - val_loss: 1.2464 - val_accuracy: 0.8277\n",
      "Epoch 33/50\n",
      "20000/20000 [==============================] - 300s 15ms/sample - loss: 0.0029 - accuracy: 0.9991 - val_loss: 1.2360 - val_accuracy: 0.8295\n",
      "Epoch 34/50\n",
      "20000/20000 [==============================] - 302s 15ms/sample - loss: 0.0010 - accuracy: 0.9995 - val_loss: 1.5357 - val_accuracy: 0.8316\n",
      "Epoch 35/50\n",
      "20000/20000 [==============================] - 301s 15ms/sample - loss: 4.5169e-04 - accuracy: 0.9997 - val_loss: 1.6459 - val_accuracy: 0.8304\n",
      "Epoch 36/50\n",
      "20000/20000 [==============================] - 298s 15ms/sample - loss: 9.9823e-04 - accuracy: 0.9998 - val_loss: 1.6380 - val_accuracy: 0.8302\n",
      "Epoch 37/50\n",
      "20000/20000 [==============================] - 301s 15ms/sample - loss: 0.0034 - accuracy: 0.9991 - val_loss: 1.1405 - val_accuracy: 0.8283\n",
      "Epoch 38/50\n",
      "20000/20000 [==============================] - 304s 15ms/sample - loss: 0.0051 - accuracy: 0.9979 - val_loss: 1.1403 - val_accuracy: 0.8287\n",
      "Epoch 39/50\n",
      "20000/20000 [==============================] - 300s 15ms/sample - loss: 0.0024 - accuracy: 0.9991 - val_loss: 1.5312 - val_accuracy: 0.8268\n",
      "Epoch 40/50\n",
      "20000/20000 [==============================] - 300s 15ms/sample - loss: 9.7934e-04 - accuracy: 0.9994 - val_loss: 1.5351 - val_accuracy: 0.8304\n",
      "Epoch 41/50\n",
      "20000/20000 [==============================] - 300s 15ms/sample - loss: 5.6584e-04 - accuracy: 0.9996 - val_loss: 1.6642 - val_accuracy: 0.8287\n",
      "Epoch 42/50\n",
      "20000/20000 [==============================] - 303s 15ms/sample - loss: 4.5663e-04 - accuracy: 0.9997 - val_loss: 1.8222 - val_accuracy: 0.8287\n",
      "Epoch 43/50\n",
      "20000/20000 [==============================] - 299s 15ms/sample - loss: 4.2100e-04 - accuracy: 0.9997 - val_loss: 1.8377 - val_accuracy: 0.8278\n",
      "Epoch 44/50\n",
      "20000/20000 [==============================] - 306s 15ms/sample - loss: 0.0036 - accuracy: 0.9991 - val_loss: 1.0365 - val_accuracy: 0.8304\n",
      "Epoch 45/50\n",
      "20000/20000 [==============================] - 303s 15ms/sample - loss: 0.0041 - accuracy: 0.9986 - val_loss: 1.4091 - val_accuracy: 0.8289\n",
      "Epoch 46/50\n",
      "20000/20000 [==============================] - 304s 15ms/sample - loss: 0.0036 - accuracy: 0.9988 - val_loss: 1.2159 - val_accuracy: 0.8267\n",
      "Epoch 47/50\n",
      "20000/20000 [==============================] - 300s 15ms/sample - loss: 0.0011 - accuracy: 0.9996 - val_loss: 1.4086 - val_accuracy: 0.8293\n",
      "Epoch 48/50\n",
      "20000/20000 [==============================] - 302s 15ms/sample - loss: 4.3998e-04 - accuracy: 0.9998 - val_loss: 1.4902 - val_accuracy: 0.8292\n",
      "Epoch 49/50\n",
      "20000/20000 [==============================] - 300s 15ms/sample - loss: 4.3388e-04 - accuracy: 0.9997 - val_loss: 1.5522 - val_accuracy: 0.8293\n",
      "Epoch 50/50\n",
      "20000/20000 [==============================] - 305s 15ms/sample - loss: 4.2625e-04 - accuracy: 0.9997 - val_loss: 1.6027 - val_accuracy: 0.8287\n"
     ]
    }
   ],
   "source": [
    "if(do_training):\n",
    "    history = model.fit(training_padded, \n",
    "                        training_labels, \n",
    "                        batch_size=batch_size, \n",
    "                        epochs=epochs, \n",
    "                        validation_data=(testing_padded, testing_labels),\n",
    "                        verbose=1)\n"
   ]
  },
  {
   "cell_type": "code",
   "execution_count": 13,
   "metadata": {
    "colab": {
     "base_uri": "https://localhost:8080/",
     "height": 549
    },
    "colab_type": "code",
    "executionInfo": {
     "elapsed": 13196981,
     "status": "ok",
     "timestamp": 1570648203202,
     "user": {
      "displayName": "Justin Masui",
      "photoUrl": "https://lh3.googleusercontent.com/a-/AAuE7mAqYNd35ntJR-uokWv_ZbHVaZ0hDMLz_PCI21XWqNM=s64",
      "userId": "13872986104507877375"
     },
     "user_tz": 420
    },
    "id": "g9DC6dmLF8DC",
    "outputId": "61b16ddd-66ba-4d1c-d0ef-ee410d0f6b6f"
   },
   "outputs": [
    {
     "data": {
      "image/png": "[encoded data removed]",
      "text/plain": [
       "<Figure size 432x288 with 1 Axes>"
      ]
     },
     "metadata": {
      "needs_background": "light"
     },
     "output_type": "display_data"
    },
    {
     "data": {
      "image/png": "[encoded data removed]",
      "text/plain": [
       "<Figure size 432x288 with 1 Axes>"
      ]
     },
     "metadata": {
      "needs_background": "light"
     },
     "output_type": "display_data"
    }
   ],
   "source": [
    "if(do_training):\n",
    "    import matplotlib.pyplot as plt\n",
    "\n",
    "    #print(str(history.history))\n",
    "    def plot_graphs(history, string):\n",
    "      plt.plot(history.history[string])\n",
    "      plt.plot(history.history['val_'+string])\n",
    "      plt.xlabel(\"Epochs\")\n",
    "      plt.ylabel(string)\n",
    "      plt.legend([string, 'val_'+string])\n",
    "      plt.show()\n",
    "\n",
    "    plot_graphs(history, 'accuracy')\n",
    "    plot_graphs(history, 'loss')"
   ]
  },
  {
   "cell_type": "code",
   "execution_count": 11,
   "metadata": {
    "colab": {},
    "colab_type": "code",
    "id": "7ZEZIUppGhdi"
   },
   "outputs": [],
   "source": [
    "if(save_model):\n",
    "    model.save(model_file)"
   ]
  },
  {
   "cell_type": "code",
   "execution_count": 12,
   "metadata": {},
   "outputs": [
    {
     "name": "stdout",
     "output_type": "stream",
     "text": [
      "[[9.9999917e-01]\n",
      " [9.9818701e-01]\n",
      " [3.0005279e-07]\n",
      " [2.0189779e-02]\n",
      " [1.5779392e-06]\n",
      " [9.9864000e-01]]\n"
     ]
    }
   ],
   "source": [
    "# prediction\n",
    "\n",
    "x_pred_sentences = [\"that dress looks so cute on you\", \n",
    "                    \"jeans that make my butt look good\", \n",
    "                    \"phantom menace was the best movie ever\",\n",
    "                    \"i am so over it\",\n",
    "                    \"babies are ugly\",\n",
    "                    \"you are so badass\"]\n",
    "x_padded_sequence = sentencesToPaddedSequences(x_pred_sentences)\n",
    "pred = model.predict(x_padded_sequence)\n",
    "print(pred)"
   ]
  }
 ],
 "metadata": {
  "accelerator": "GPU",
  "colab": {
   "collapsed_sections": [],
   "name": "NLP_w3_sarcasm_bi_lstm.ipynb",
   "provenance": [
    {
     "file_id": "https://github.com/lmoroney/dlaicourse/blob/master/TensorFlow%20In%20Practice/Course%203%20-%20NLP/Course%203%20-%20Week%203%20-%20Lesson%202.ipynb",
     "timestamp": 1570589102457
    },
    {
     "file_id": "1OOzqEhzmkFQOtmEGwMhiLxB_D2osx4eM",
     "timestamp": 1556803950670
    }
   ]
  },
  "kernelspec": {
   "display_name": "Python 3",
   "language": "python",
   "name": "python3"
  },
  "language_info": {
   "codemirror_mode": {
    "name": "ipython",
    "version": 3
   },
   "file_extension": ".py",
   "mimetype": "text/x-python",
   "name": "python",
   "nbconvert_exporter": "python",
   "pygments_lexer": "ipython3",
   "version": "3.7.4"
  }
 },
 "nbformat": 4,
 "nbformat_minor": 1
}
