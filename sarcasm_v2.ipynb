{
 "cells": [
  {
   "cell_type": "code",
   "execution_count": 1,
   "metadata": {
    "colab": {
     "base_uri": "https://localhost:8080/",
     "height": 1000
    },
    "colab_type": "code",
    "executionInfo": {
     "elapsed": 41001812,
     "status": "ok",
     "timestamp": 1570702940111,
     "user": {
      "displayName": "Justin Masui",
      "photoUrl": "https://lh3.googleusercontent.com/a-/AAuE7mAqYNd35ntJR-uokWv_ZbHVaZ0hDMLz_PCI21XWqNM=s64",
      "userId": "13872986104507877375"
     },
     "user_tz": 420
    },
    "id": "jGwXGIXvFhXW",
    "outputId": "e31a13f3-6c0e-43fd-98d9-d49e41bb5ef2"
   },
   "outputs": [
    {
     "name": "stderr",
     "output_type": "stream",
     "text": [
      "/Library/Frameworks/Python.framework/Versions/3.7/lib/python3.7/site-packages/tensorflow/python/framework/dtypes.py:516: FutureWarning: Passing (type, 1) or '1type' as a synonym of type is deprecated; in a future version of numpy, it will be understood as (type, (1,)) / '(1,)type'.\n",
      "  _np_qint8 = np.dtype([(\"qint8\", np.int8, 1)])\n",
      "/Library/Frameworks/Python.framework/Versions/3.7/lib/python3.7/site-packages/tensorflow/python/framework/dtypes.py:517: FutureWarning: Passing (type, 1) or '1type' as a synonym of type is deprecated; in a future version of numpy, it will be understood as (type, (1,)) / '(1,)type'.\n",
      "  _np_quint8 = np.dtype([(\"quint8\", np.uint8, 1)])\n",
      "/Library/Frameworks/Python.framework/Versions/3.7/lib/python3.7/site-packages/tensorflow/python/framework/dtypes.py:518: FutureWarning: Passing (type, 1) or '1type' as a synonym of type is deprecated; in a future version of numpy, it will be understood as (type, (1,)) / '(1,)type'.\n",
      "  _np_qint16 = np.dtype([(\"qint16\", np.int16, 1)])\n",
      "/Library/Frameworks/Python.framework/Versions/3.7/lib/python3.7/site-packages/tensorflow/python/framework/dtypes.py:519: FutureWarning: Passing (type, 1) or '1type' as a synonym of type is deprecated; in a future version of numpy, it will be understood as (type, (1,)) / '(1,)type'.\n",
      "  _np_quint16 = np.dtype([(\"quint16\", np.uint16, 1)])\n",
      "/Library/Frameworks/Python.framework/Versions/3.7/lib/python3.7/site-packages/tensorflow/python/framework/dtypes.py:520: FutureWarning: Passing (type, 1) or '1type' as a synonym of type is deprecated; in a future version of numpy, it will be understood as (type, (1,)) / '(1,)type'.\n",
      "  _np_qint32 = np.dtype([(\"qint32\", np.int32, 1)])\n",
      "/Library/Frameworks/Python.framework/Versions/3.7/lib/python3.7/site-packages/tensorflow/python/framework/dtypes.py:525: FutureWarning: Passing (type, 1) or '1type' as a synonym of type is deprecated; in a future version of numpy, it will be understood as (type, (1,)) / '(1,)type'.\n",
      "  np_resource = np.dtype([(\"resource\", np.ubyte, 1)])\n"
     ]
    },
    {
     "name": "stdout",
     "output_type": "stream",
     "text": [
      "2.0.0-beta0\n"
     ]
    },
    {
     "name": "stderr",
     "output_type": "stream",
     "text": [
      "/Library/Frameworks/Python.framework/Versions/3.7/lib/python3.7/site-packages/tensorboard/compat/tensorflow_stub/dtypes.py:541: FutureWarning: Passing (type, 1) or '1type' as a synonym of type is deprecated; in a future version of numpy, it will be understood as (type, (1,)) / '(1,)type'.\n",
      "  _np_qint8 = np.dtype([(\"qint8\", np.int8, 1)])\n",
      "/Library/Frameworks/Python.framework/Versions/3.7/lib/python3.7/site-packages/tensorboard/compat/tensorflow_stub/dtypes.py:542: FutureWarning: Passing (type, 1) or '1type' as a synonym of type is deprecated; in a future version of numpy, it will be understood as (type, (1,)) / '(1,)type'.\n",
      "  _np_quint8 = np.dtype([(\"quint8\", np.uint8, 1)])\n",
      "/Library/Frameworks/Python.framework/Versions/3.7/lib/python3.7/site-packages/tensorboard/compat/tensorflow_stub/dtypes.py:543: FutureWarning: Passing (type, 1) or '1type' as a synonym of type is deprecated; in a future version of numpy, it will be understood as (type, (1,)) / '(1,)type'.\n",
      "  _np_qint16 = np.dtype([(\"qint16\", np.int16, 1)])\n",
      "/Library/Frameworks/Python.framework/Versions/3.7/lib/python3.7/site-packages/tensorboard/compat/tensorflow_stub/dtypes.py:544: FutureWarning: Passing (type, 1) or '1type' as a synonym of type is deprecated; in a future version of numpy, it will be understood as (type, (1,)) / '(1,)type'.\n",
      "  _np_quint16 = np.dtype([(\"quint16\", np.uint16, 1)])\n",
      "/Library/Frameworks/Python.framework/Versions/3.7/lib/python3.7/site-packages/tensorboard/compat/tensorflow_stub/dtypes.py:545: FutureWarning: Passing (type, 1) or '1type' as a synonym of type is deprecated; in a future version of numpy, it will be understood as (type, (1,)) / '(1,)type'.\n",
      "  _np_qint32 = np.dtype([(\"qint32\", np.int32, 1)])\n",
      "/Library/Frameworks/Python.framework/Versions/3.7/lib/python3.7/site-packages/tensorboard/compat/tensorflow_stub/dtypes.py:550: FutureWarning: Passing (type, 1) or '1type' as a synonym of type is deprecated; in a future version of numpy, it will be understood as (type, (1,)) / '(1,)type'.\n",
      "  np_resource = np.dtype([(\"resource\", np.ubyte, 1)])\n",
      "Using TensorFlow backend.\n"
     ]
    }
   ],
   "source": [
    "import json\n",
    "import tensorflow as tf\n",
    "from keras.optimizers import *\n",
    "\n",
    "from tensorflow.keras.preprocessing.text import Tokenizer\n",
    "from tensorflow.keras.preprocessing.sequence import pad_sequences\n",
    "\n",
    "print(tf.__version__)"
   ]
  },
  {
   "cell_type": "code",
   "execution_count": 2,
   "metadata": {},
   "outputs": [],
   "source": [
    "vocab_size = 1000\n",
    "embedding_dim = 16\n",
    "max_length = 120\n",
    "trunc_type='post'\n",
    "padding_type='post'\n",
    "oov_tok = \"<OOV>\"\n",
    "training_size = 20000\n",
    "batch_size=128\n",
    "epochs=50\n",
    "\n",
    "version=2\n",
    "download_data=False\n",
    "load_weights=False\n",
    "do_training=True\n",
    "save_model=True\n",
    "model_file=\"sarcasm_model\"+\"_v\"+str(version)+\".h5\""
   ]
  },
  {
   "cell_type": "code",
   "execution_count": 3,
   "metadata": {},
   "outputs": [],
   "source": [
    "if(download_data):\n",
    "    !wget --no-check-certificate \\\n",
    "    https://storage.googleapis.com/laurencemoroney-blog.appspot.com/sarcasm.json \\\n",
    "    -O /tmp/sarcasm.json\n",
    "        \n",
    "with open(\"./sarcasm_data.json\", 'r') as f:\n",
    "    datastore = json.load(f)\n",
    "    "
   ]
  },
  {
   "cell_type": "code",
   "execution_count": 4,
   "metadata": {
    "colab": {
     "base_uri": "https://localhost:8080/",
     "height": 1000
    },
    "colab_type": "code",
    "executionInfo": {
     "elapsed": 41001812,
     "status": "ok",
     "timestamp": 1570702940111,
     "user": {
      "displayName": "Justin Masui",
      "photoUrl": "https://lh3.googleusercontent.com/a-/AAuE7mAqYNd35ntJR-uokWv_ZbHVaZ0hDMLz_PCI21XWqNM=s64",
      "userId": "13872986104507877375"
     },
     "user_tz": 420
    },
    "id": "jGwXGIXvFhXW",
    "outputId": "e31a13f3-6c0e-43fd-98d9-d49e41bb5ef2"
   },
   "outputs": [
    {
     "name": "stdout",
     "output_type": "stream",
     "text": [
      "['pediatricians announce 2011 newborns are ugliest babies in 30 years', \"don't rely on your fitness tracker to lose weight\", 'you might want to cut back on the soap', 'bausch & lomb introduces line of aviator contacts', '7 everyday habits for glowing, younger-looking skin']\n",
      "[1, 0, 0, 1, 0]\n",
      "training_padded: (20000, 120)\n",
      "testing_padded: (6709, 120)\n"
     ]
    }
   ],
   "source": [
    "sentences = []\n",
    "labels = []\n",
    "urls = []\n",
    "for item in datastore:\n",
    "    sentences.append(item['headline'])\n",
    "    labels.append(item['is_sarcastic'])\n",
    "\n",
    "training_sentences = sentences[0:training_size]\n",
    "testing_sentences = sentences[training_size:]\n",
    "training_labels = labels[0:training_size]\n",
    "testing_labels = labels[training_size:]\n",
    "print(testing_sentences[0:5])\n",
    "print(testing_labels[0:5])\n",
    "\n",
    "tokenizer = Tokenizer(num_words=vocab_size, oov_token=oov_tok)\n",
    "tokenizer.fit_on_texts(training_sentences)\n",
    "\n",
    "word_index = tokenizer.word_index\n",
    "\n",
    "def sentencesToPaddedSequences(sentences):\n",
    "    sequences = tokenizer.texts_to_sequences(sentences)\n",
    "    padded_sequences = pad_sequences(sequences, maxlen=max_length, padding=padding_type, truncating=trunc_type)\n",
    "    return padded_sequences\n",
    "\n",
    "training_padded = sentencesToPaddedSequences(training_sentences)\n",
    "print(\"training_padded: \"+str(training_padded.shape))\n",
    "#print(str(training_padded))\n",
    "\n",
    "testing_sequences = tokenizer.texts_to_sequences(testing_sentences)\n",
    "testing_padded = sentencesToPaddedSequences(testing_sentences)\n",
    "print(\"testing_padded: \"+str(testing_padded.shape))\n",
    "#print(str(testing_padded))\n"
   ]
  },
  {
   "cell_type": "code",
   "execution_count": 5,
   "metadata": {
    "colab": {
     "base_uri": "https://localhost:8080/",
     "height": 1000
    },
    "colab_type": "code",
    "executionInfo": {
     "elapsed": 41001812,
     "status": "ok",
     "timestamp": 1570702940111,
     "user": {
      "displayName": "Justin Masui",
      "photoUrl": "https://lh3.googleusercontent.com/a-/AAuE7mAqYNd35ntJR-uokWv_ZbHVaZ0hDMLz_PCI21XWqNM=s64",
      "userId": "13872986104507877375"
     },
     "user_tz": 420
    },
    "id": "jGwXGIXvFhXW",
    "outputId": "e31a13f3-6c0e-43fd-98d9-d49e41bb5ef2"
   },
   "outputs": [],
   "source": [
    "model = tf.keras.Sequential([\n",
    "    tf.keras.layers.Embedding(vocab_size, embedding_dim, input_length=max_length),\n",
    "    tf.keras.layers.Bidirectional(tf.keras.layers.LSTM(128, return_sequences=True)),\n",
    "    tf.keras.layers.Bidirectional(tf.keras.layers.LSTM(128)),\n",
    "    tf.keras.layers.Dense(128, activation='relu'),\n",
    "    tf.keras.layers.Dense(1, activation='sigmoid')\n",
    "])"
   ]
  },
  {
   "cell_type": "code",
   "execution_count": 6,
   "metadata": {},
   "outputs": [],
   "source": [
    "if(load_weights):\n",
    "    print(\"loading weights from: \"+model_file)\n",
    "    model.load_weights(model_file)\n",
    "    print(\"weights: \")\n",
    "    #print(str(model.get_weights()))\n",
    "    print(\"loading weights complete!\")"
   ]
  },
  {
   "cell_type": "code",
   "execution_count": 7,
   "metadata": {
    "colab": {
     "base_uri": "https://localhost:8080/",
     "height": 1000
    },
    "colab_type": "code",
    "executionInfo": {
     "elapsed": 41001812,
     "status": "ok",
     "timestamp": 1570702940111,
     "user": {
      "displayName": "Justin Masui",
      "photoUrl": "https://lh3.googleusercontent.com/a-/AAuE7mAqYNd35ntJR-uokWv_ZbHVaZ0hDMLz_PCI21XWqNM=s64",
      "userId": "13872986104507877375"
     },
     "user_tz": 420
    },
    "id": "jGwXGIXvFhXW",
    "outputId": "e31a13f3-6c0e-43fd-98d9-d49e41bb5ef2"
   },
   "outputs": [
    {
     "name": "stdout",
     "output_type": "stream",
     "text": [
      "Model: \"sequential\"\n",
      "_________________________________________________________________\n",
      "Layer (type)                 Output Shape              Param #   \n",
      "=================================================================\n",
      "embedding (Embedding)        (None, 120, 16)           16000     \n",
      "_________________________________________________________________\n",
      "bidirectional (Bidirectional (None, 120, 256)          148480    \n",
      "_________________________________________________________________\n",
      "bidirectional_1 (Bidirection (None, 256)               394240    \n",
      "_________________________________________________________________\n",
      "dense (Dense)                (None, 128)               32896     \n",
      "_________________________________________________________________\n",
      "dense_1 (Dense)              (None, 1)                 129       \n",
      "=================================================================\n",
      "Total params: 591,745\n",
      "Trainable params: 591,745\n",
      "Non-trainable params: 0\n",
      "_________________________________________________________________\n"
     ]
    }
   ],
   "source": [
    "model.compile(loss='binary_crossentropy',optimizer='SGD',metrics=['accuracy'])\n",
    "model.summary()"
   ]
  },
  {
   "cell_type": "code",
   "execution_count": null,
   "metadata": {
    "colab": {
     "base_uri": "https://localhost:8080/",
     "height": 1000
    },
    "colab_type": "code",
    "executionInfo": {
     "elapsed": 41001812,
     "status": "ok",
     "timestamp": 1570702940111,
     "user": {
      "displayName": "Justin Masui",
      "photoUrl": "https://lh3.googleusercontent.com/a-/AAuE7mAqYNd35ntJR-uokWv_ZbHVaZ0hDMLz_PCI21XWqNM=s64",
      "userId": "13872986104507877375"
     },
     "user_tz": 420
    },
    "id": "jGwXGIXvFhXW",
    "outputId": "e31a13f3-6c0e-43fd-98d9-d49e41bb5ef2",
    "scrolled": true
   },
   "outputs": [
    {
     "name": "stdout",
     "output_type": "stream",
     "text": [
      "WARNING:tensorflow:From /Library/Frameworks/Python.framework/Versions/3.7/lib/python3.7/site-packages/tensorflow/python/ops/math_grad.py:1250: add_dispatch_support.<locals>.wrapper (from tensorflow.python.ops.array_ops) is deprecated and will be removed in a future version.\n",
      "Instructions for updating:\n",
      "Use tf.where in 2.0, which has the same broadcast rule as np.where\n",
      "Train on 20000 samples, validate on 6709 samples\n",
      "Epoch 1/50\n",
      "20000/20000 [==============================] - 119s 6ms/sample - loss: 0.6881 - accuracy: 0.5602 - val_loss: 0.6855 - val_accuracy: 0.5633\n",
      "Epoch 2/50\n",
      "16000/20000 [=======================>......] - ETA: 20s - loss: 0.6857 - accuracy: 0.5612"
     ]
    }
   ],
   "source": [
    "if(do_training):\n",
    "    history = model.fit(training_padded, \n",
    "                        training_labels, \n",
    "                        batch_size=batch_size, \n",
    "                        epochs=epochs, \n",
    "                        validation_data=(testing_padded, testing_labels),\n",
    "                        verbose=1)\n"
   ]
  },
  {
   "cell_type": "code",
   "execution_count": null,
   "metadata": {
    "colab": {
     "base_uri": "https://localhost:8080/",
     "height": 549
    },
    "colab_type": "code",
    "executionInfo": {
     "elapsed": 13196981,
     "status": "ok",
     "timestamp": 1570648203202,
     "user": {
      "displayName": "Justin Masui",
      "photoUrl": "https://lh3.googleusercontent.com/a-/AAuE7mAqYNd35ntJR-uokWv_ZbHVaZ0hDMLz_PCI21XWqNM=s64",
      "userId": "13872986104507877375"
     },
     "user_tz": 420
    },
    "id": "g9DC6dmLF8DC",
    "outputId": "61b16ddd-66ba-4d1c-d0ef-ee410d0f6b6f"
   },
   "outputs": [],
   "source": [
    "if(do_training):\n",
    "    import matplotlib.pyplot as plt\n",
    "\n",
    "    print(str(history.history))\n",
    "    def plot_graphs(history, string):\n",
    "      plt.plot(history.history[string])\n",
    "      plt.plot(history.history['val_'+string])\n",
    "      plt.xlabel(\"Epochs\")\n",
    "      plt.ylabel(string)\n",
    "      plt.legend([string, 'val_'+string])\n",
    "      plt.show()\n",
    "\n",
    "    plot_graphs(history, 'accuracy')\n",
    "    plot_graphs(history, 'loss')"
   ]
  },
  {
   "cell_type": "code",
   "execution_count": null,
   "metadata": {
    "colab": {},
    "colab_type": "code",
    "id": "7ZEZIUppGhdi"
   },
   "outputs": [],
   "source": [
    "if(save_model):\n",
    "    model.save(model_file)"
   ]
  },
  {
   "cell_type": "code",
   "execution_count": null,
   "metadata": {},
   "outputs": [],
   "source": [
    "# prediction\n",
    "\n",
    "x_pred_sentences = [\"that dress looks so cute on you\", \"jeans that make my butt look good\", \"phantom menace was the best movie ever\"]\n",
    "x_padded_sequence = sentencesToPaddedSequences(x_pred_sentences)\n",
    "pred = model.predict(x_padded_sequence)\n",
    "print(pred)"
   ]
  },
  {
   "cell_type": "code",
   "execution_count": null,
   "metadata": {},
   "outputs": [],
   "source": []
  },
  {
   "cell_type": "code",
   "execution_count": null,
   "metadata": {},
   "outputs": [],
   "source": []
  }
 ],
 "metadata": {
  "accelerator": "GPU",
  "colab": {
   "collapsed_sections": [],
   "name": "NLP_w3_sarcasm_bi_lstm.ipynb",
   "provenance": [
    {
     "file_id": "https://github.com/lmoroney/dlaicourse/blob/master/TensorFlow%20In%20Practice/Course%203%20-%20NLP/Course%203%20-%20Week%203%20-%20Lesson%202.ipynb",
     "timestamp": 1570589102457
    },
    {
     "file_id": "1OOzqEhzmkFQOtmEGwMhiLxB_D2osx4eM",
     "timestamp": 1556803950670
    }
   ]
  },
  "kernelspec": {
   "display_name": "Python 3",
   "language": "python",
   "name": "python3"
  },
  "language_info": {
   "codemirror_mode": {
    "name": "ipython",
    "version": 3
   },
   "file_extension": ".py",
   "mimetype": "text/x-python",
   "name": "python",
   "nbconvert_exporter": "python",
   "pygments_lexer": "ipython3",
   "version": "3.7.4"
  }
 },
 "nbformat": 4,
 "nbformat_minor": 1
}
