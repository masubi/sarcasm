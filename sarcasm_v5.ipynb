{
 "cells": [
  {
   "cell_type": "code",
   "execution_count": 1,
   "metadata": {},
   "outputs": [],
   "source": [
    "#!pip install tensorflow==2.0.0b1\n"
   ]
  },
  {
   "cell_type": "code",
   "execution_count": 2,
   "metadata": {
    "colab": {
     "base_uri": "https://localhost:8080/",
     "height": 1000
    },
    "colab_type": "code",
    "executionInfo": {
     "elapsed": 41001812,
     "status": "ok",
     "timestamp": 1570702940111,
     "user": {
      "displayName": "Justin Masui",
      "photoUrl": "https://lh3.googleusercontent.com/a-/AAuE7mAqYNd35ntJR-uokWv_ZbHVaZ0hDMLz_PCI21XWqNM=s64",
      "userId": "13872986104507877375"
     },
     "user_tz": 420
    },
    "id": "jGwXGIXvFhXW",
    "outputId": "e31a13f3-6c0e-43fd-98d9-d49e41bb5ef2"
   },
   "outputs": [
    {
     "name": "stderr",
     "output_type": "stream",
     "text": [
      "/Library/Frameworks/Python.framework/Versions/3.7/lib/python3.7/site-packages/tensorflow/python/framework/dtypes.py:516: FutureWarning: Passing (type, 1) or '1type' as a synonym of type is deprecated; in a future version of numpy, it will be understood as (type, (1,)) / '(1,)type'.\n",
      "  _np_qint8 = np.dtype([(\"qint8\", np.int8, 1)])\n",
      "/Library/Frameworks/Python.framework/Versions/3.7/lib/python3.7/site-packages/tensorflow/python/framework/dtypes.py:517: FutureWarning: Passing (type, 1) or '1type' as a synonym of type is deprecated; in a future version of numpy, it will be understood as (type, (1,)) / '(1,)type'.\n",
      "  _np_quint8 = np.dtype([(\"quint8\", np.uint8, 1)])\n",
      "/Library/Frameworks/Python.framework/Versions/3.7/lib/python3.7/site-packages/tensorflow/python/framework/dtypes.py:518: FutureWarning: Passing (type, 1) or '1type' as a synonym of type is deprecated; in a future version of numpy, it will be understood as (type, (1,)) / '(1,)type'.\n",
      "  _np_qint16 = np.dtype([(\"qint16\", np.int16, 1)])\n",
      "/Library/Frameworks/Python.framework/Versions/3.7/lib/python3.7/site-packages/tensorflow/python/framework/dtypes.py:519: FutureWarning: Passing (type, 1) or '1type' as a synonym of type is deprecated; in a future version of numpy, it will be understood as (type, (1,)) / '(1,)type'.\n",
      "  _np_quint16 = np.dtype([(\"quint16\", np.uint16, 1)])\n",
      "/Library/Frameworks/Python.framework/Versions/3.7/lib/python3.7/site-packages/tensorflow/python/framework/dtypes.py:520: FutureWarning: Passing (type, 1) or '1type' as a synonym of type is deprecated; in a future version of numpy, it will be understood as (type, (1,)) / '(1,)type'.\n",
      "  _np_qint32 = np.dtype([(\"qint32\", np.int32, 1)])\n",
      "/Library/Frameworks/Python.framework/Versions/3.7/lib/python3.7/site-packages/tensorflow/python/framework/dtypes.py:525: FutureWarning: Passing (type, 1) or '1type' as a synonym of type is deprecated; in a future version of numpy, it will be understood as (type, (1,)) / '(1,)type'.\n",
      "  np_resource = np.dtype([(\"resource\", np.ubyte, 1)])\n"
     ]
    },
    {
     "name": "stdout",
     "output_type": "stream",
     "text": [
      "2.0.0-beta0\n"
     ]
    },
    {
     "name": "stderr",
     "output_type": "stream",
     "text": [
      "/Library/Frameworks/Python.framework/Versions/3.7/lib/python3.7/site-packages/tensorboard/compat/tensorflow_stub/dtypes.py:541: FutureWarning: Passing (type, 1) or '1type' as a synonym of type is deprecated; in a future version of numpy, it will be understood as (type, (1,)) / '(1,)type'.\n",
      "  _np_qint8 = np.dtype([(\"qint8\", np.int8, 1)])\n",
      "/Library/Frameworks/Python.framework/Versions/3.7/lib/python3.7/site-packages/tensorboard/compat/tensorflow_stub/dtypes.py:542: FutureWarning: Passing (type, 1) or '1type' as a synonym of type is deprecated; in a future version of numpy, it will be understood as (type, (1,)) / '(1,)type'.\n",
      "  _np_quint8 = np.dtype([(\"quint8\", np.uint8, 1)])\n",
      "/Library/Frameworks/Python.framework/Versions/3.7/lib/python3.7/site-packages/tensorboard/compat/tensorflow_stub/dtypes.py:543: FutureWarning: Passing (type, 1) or '1type' as a synonym of type is deprecated; in a future version of numpy, it will be understood as (type, (1,)) / '(1,)type'.\n",
      "  _np_qint16 = np.dtype([(\"qint16\", np.int16, 1)])\n",
      "/Library/Frameworks/Python.framework/Versions/3.7/lib/python3.7/site-packages/tensorboard/compat/tensorflow_stub/dtypes.py:544: FutureWarning: Passing (type, 1) or '1type' as a synonym of type is deprecated; in a future version of numpy, it will be understood as (type, (1,)) / '(1,)type'.\n",
      "  _np_quint16 = np.dtype([(\"quint16\", np.uint16, 1)])\n",
      "/Library/Frameworks/Python.framework/Versions/3.7/lib/python3.7/site-packages/tensorboard/compat/tensorflow_stub/dtypes.py:545: FutureWarning: Passing (type, 1) or '1type' as a synonym of type is deprecated; in a future version of numpy, it will be understood as (type, (1,)) / '(1,)type'.\n",
      "  _np_qint32 = np.dtype([(\"qint32\", np.int32, 1)])\n",
      "/Library/Frameworks/Python.framework/Versions/3.7/lib/python3.7/site-packages/tensorboard/compat/tensorflow_stub/dtypes.py:550: FutureWarning: Passing (type, 1) or '1type' as a synonym of type is deprecated; in a future version of numpy, it will be understood as (type, (1,)) / '(1,)type'.\n",
      "  np_resource = np.dtype([(\"resource\", np.ubyte, 1)])\n",
      "Using TensorFlow backend.\n"
     ]
    }
   ],
   "source": [
    "import json\n",
    "import tensorflow as tf\n",
    "from keras.optimizers import *\n",
    "\n",
    "from tensorflow.keras.preprocessing.text import Tokenizer\n",
    "from tensorflow.keras.preprocessing.sequence import pad_sequences\n",
    "\n",
    "from keras.callbacks import ModelCheckpoint\n",
    "\n",
    "print(tf.__version__)"
   ]
  },
  {
   "cell_type": "code",
   "execution_count": 3,
   "metadata": {},
   "outputs": [],
   "source": [
    "vocab_size = 10000\n",
    "embedding_dim = 16\n",
    "max_length = 120\n",
    "trunc_type='post'\n",
    "padding_type='post'\n",
    "oov_tok = \"<OOV>\"\n",
    "training_size = 1990000\n",
    "batch_size=128\n",
    "epochs=10\n",
    "\n",
    "version=4\n",
    "download_data=False\n",
    "load_weights=False\n",
    "load_checkpoint=False\n",
    "do_training=True\n",
    "save_model=True\n",
    "model_name=\"sarcasm_model\"+\"_v\"+str(version)\n",
    "model_file=model_name+\".h5\""
   ]
  },
  {
   "cell_type": "code",
   "execution_count": 4,
   "metadata": {},
   "outputs": [],
   "source": [
    "#-------------------\n",
    "# Get Data\n",
    "#-------------------\n",
    "\n",
    "sentences = []\n",
    "context = []\n",
    "labels = []\n",
    "urls = []\n",
    "\n",
    "# sarcasm_data.json\n",
    "if(download_data):\n",
    "    !wget --no-check-certificate \\\n",
    "    https://storage.googleapis.com/laurencemoroney-blog.appspot.com/sarcasm.json \\\n",
    "    -O /tmp/sarcasm.json               \n",
    "        \n",
    "def clean_line(line):\n",
    "    try:\n",
    "        line.lower()\n",
    "    except:\n",
    "        print(\"failed to lower: \"+str(line))            \n",
    "    \n",
    "    line = \" \".join(line.split())\n",
    "    line = line.strip()\n",
    "    line = line.replace(\"[_-]\", ' ')\n",
    "    line = line.replace(\"\\'\", '')\n",
    "    line = line.replace(\"at&amp;t\", \"at&t\")\n",
    "                        \n",
    "    return line\n",
    "        \n",
    "def parseJsonToMemory(filename, labelField, commentField, contextField):\n",
    "    print(f'Processing {filename}')\n",
    "    with open(\"./data/sarcasm_data.json\", 'r') as f:\n",
    "        datastore = json.load(f)\n",
    "\n",
    "        for item in datastore:\n",
    "            sentences.append(item[commentField])\n",
    "            labels.append(int(item[labelField]))\n",
    "            if contextField == -1 :\n",
    "                context.append(\"\")\n",
    "            else:\n",
    "                context.append(row[contextField])\n",
    "    print(f'Processed {filename}')\n",
    "    print(\"  sentences len: \"+str(len(sentences)))\n",
    "    print(\"  labels len: \"+str(len(labels)))\n",
    "    print(\"  context len: \"+str(len(context)))\n",
    "    \n",
    "def joinArray(arr):\n",
    "    s = \" \"\n",
    "    s = s.join(arr)\n",
    "    return s\n",
    "\n",
    "def parseJsonToMemory2(filename, labelField, commentField, contextField):\n",
    "    print(f'Processing {filename}')\n",
    "    with open(\"./data/sarcasm_data.json\", 'r') as f:\n",
    "        datastore = json.load(f)\n",
    "\n",
    "        for item in datastore:\n",
    "            sentences.append(item[commentField])\n",
    "            labels.append(int(item[labelField]))\n",
    "            context.append(joinArray(item[contextField]))\n",
    "            \n",
    "    print(f'Processed {filename}')\n",
    "    print(\"  sentences len: \"+str(len(sentences)))\n",
    "    print(\"  labels len: \"+str(len(labels)))\n",
    "    print(\"  context len: \"+str(len(context)))\n",
    "  \n",
    "import csv \n",
    "def parseCSVToMemory(filename, labelCol, commentCol, contextCol):\n",
    "    print(f'Processing {filename}')\n",
    "    with open(filename) as csv_file:\n",
    "        csv_reader = csv.reader(csv_file, delimiter=',')\n",
    "        line_count = 0\n",
    "        for row in csv_reader:\n",
    "            #print(f'\\t label: {row[labelCol]} of {type(row[labelCol])} sentence: {row[commentCol]} context: {row[contextCol]}')\n",
    "            try:\n",
    "                if line_count == 0:\n",
    "                    print(f'  Column names are {\", \".join(row)}')\n",
    "                    line_count += 1\n",
    "                else:\n",
    "                    \n",
    "                    labels.append(int(row[labelCol]))\n",
    "                    sentences.append(row[commentCol])\n",
    "                    line_count += 1\n",
    "                    if contextCol == -1 :\n",
    "                        context.append(\"\")\n",
    "                    else:\n",
    "                        context.append(row[contextCol])               \n",
    "            except:\n",
    "                print(\"error parsing label: \" + row[labelCol] + \" comment: \" + row[commentCol])        \n",
    "        print(f'Processed {filename} w/ {line_count} lines.')\n",
    "        print(\"  sentences len: \"+str(len(sentences)))\n",
    "        print(\"  labels len: \"+str(len(labels)))\n",
    "        print(\"  context len: \"+str(len(context)))\n",
    "\n"
   ]
  },
  {
   "cell_type": "code",
   "execution_count": 5,
   "metadata": {},
   "outputs": [
    {
     "name": "stdout",
     "output_type": "stream",
     "text": [
      "Processing ./data/sarcasm_data.json\n",
      "Processed ./data/sarcasm_data.json\n",
      "  sentences len: 26709\n",
      "  labels len: 26709\n",
      "  context len: 26709\n",
      "Processing ./data/sarcasm_kaggle.csv\n",
      "  Column names are label, comment\n",
      "Processed ./data/sarcasm_kaggle.csv w/ 1010819 lines.\n",
      "  sentences len: 1037527\n",
      "  labels len: 1037527\n",
      "  context len: 1037527\n",
      "Processing ./data/train-balanced-sarcasm.csv\n",
      "  Column names are label, comment, author, subreddit, score, ups, downs, date, created_utc, parent_comment\n",
      "Processed ./data/train-balanced-sarcasm.csv w/ 1010827 lines.\n",
      "  sentences len: 2048353\n",
      "  labels len: 2048353\n",
      "  context len: 2048353\n",
      "done processing\n"
     ]
    }
   ],
   "source": [
    "# add class data\n",
    "parseJsonToMemory('./data/sarcasm_data.json', 'is_sarcastic', 'headline', -1)\n",
    "\n",
    "#add kaggle data\n",
    "parseCSVToMemory('./data/sarcasm_kaggle.csv', 0, 1, -1)\n",
    "\n",
    "#add reddit data\n",
    "parseCSVToMemory('./data/train-balanced-sarcasm.csv', 0, 1, 9)\n",
    "\n",
    "\n",
    "#TODO: doesn't parse correctly\n",
    "#parseJsonToMemory2('./data/sarcasm_data_mustard.json', \"sarcasm\", \"utterance\", \"context\") \n",
    "\n",
    "# shuffle\n",
    "\n",
    "# combine x and y cols\n",
    "def concat_cols(x,y):\n",
    "    y = y.reshape(y.shape[0],1)\n",
    "    return np.concatenate((x,y), axis=1)\n",
    "\n",
    "# split x and y\n",
    "def split_cols(a):\n",
    "    x_res = a[:,0:a.shape[1]-1]\n",
    "    y_res = a[:,a.shape[1]-1:a.shape[1]]\n",
    "    return x_res, y_res\n",
    "\n",
    "# shuffle rows of a\n",
    "def shuffle(a, subset_size):\n",
    "    subset = a[np.random.choice(a.shape[0], subset_size, replace=False), :]\n",
    "    return subset\n",
    "                  \n",
    "print(\"done processing\")"
   ]
  },
  {
   "cell_type": "code",
   "execution_count": 6,
   "metadata": {
    "colab": {
     "base_uri": "https://localhost:8080/",
     "height": 1000
    },
    "colab_type": "code",
    "executionInfo": {
     "elapsed": 41001812,
     "status": "ok",
     "timestamp": 1570702940111,
     "user": {
      "displayName": "Justin Masui",
      "photoUrl": "https://lh3.googleusercontent.com/a-/AAuE7mAqYNd35ntJR-uokWv_ZbHVaZ0hDMLz_PCI21XWqNM=s64",
      "userId": "13872986104507877375"
     },
     "user_tz": 420
    },
    "id": "jGwXGIXvFhXW",
    "outputId": "e31a13f3-6c0e-43fd-98d9-d49e41bb5ef2"
   },
   "outputs": [
    {
     "name": "stdout",
     "output_type": "stream",
     "text": [
      "[\"I think I'm ok with a very spartan environment, tbh.\", 'Lawl', \"I know people who didn't stick with MD/PhD programs (eg only ended up with a MD/MS) who see themselves as quitters or failures.\", 'Today, I miss Ba.', 'Lol yeah he tends to do that sometimes.']\n",
      "[0, 0, 0, 0, 0]\n",
      "training_padded.shape: (1990000, 120)\n",
      "[[2129    1  875 ...    0    0    0]\n",
      " [   2    1    1 ...    0    0    0]\n",
      " [ 813 1019    4 ...    0    0    0]\n",
      " ...\n",
      " [  31 1011  218 ...    0    0    0]\n",
      " [  13 2769    1 ...    0    0    0]\n",
      " [2834   20   83 ...    0    0    0]]\n",
      "<class 'numpy.ndarray'>\n",
      "testing_padded.shape: (58353, 120)\n",
      "<class 'numpy.ndarray'>\n",
      "type of test labels: <class 'list'>\n",
      "type of training labels: <class 'list'>\n"
     ]
    }
   ],
   "source": [
    "training_sentences = sentences[0:training_size]\n",
    "testing_sentences = sentences[training_size:]\n",
    "training_labels = labels[0:training_size]\n",
    "testing_labels = labels[training_size:]\n",
    "print(testing_sentences[0:5])\n",
    "print(testing_labels[0:5])\n",
    "\n",
    "tokenizer = Tokenizer(num_words=vocab_size, oov_token=oov_tok)\n",
    "tokenizer.fit_on_texts(training_sentences)\n",
    "\n",
    "word_index = tokenizer.word_index\n",
    "\n",
    "def sentencesToPaddedSequences(sentences):\n",
    "    sequences = tokenizer.texts_to_sequences(sentences)\n",
    "    padded_sequences = pad_sequences(sequences, maxlen=max_length, padding=padding_type, truncating=trunc_type)\n",
    "    return padded_sequences\n",
    "\n",
    "training_padded = sentencesToPaddedSequences(training_sentences)\n",
    "print(\"training_padded.shape: \"+str(training_padded.shape))\n",
    "print(str(training_padded))\n",
    "print(type(training_padded))\n",
    "\n",
    "testing_sequences = tokenizer.texts_to_sequences(testing_sentences)\n",
    "testing_padded = sentencesToPaddedSequences(testing_sentences)\n",
    "print(\"testing_padded.shape: \"+str(testing_padded.shape))\n",
    "print(type(testing_padded))\n",
    "\n",
    "print(\"type of test labels: \" + str(type(testing_labels)))\n",
    "print(\"type of training labels: \" + str(type(training_labels)))\n"
   ]
  },
  {
   "cell_type": "code",
   "execution_count": 7,
   "metadata": {
    "colab": {
     "base_uri": "https://localhost:8080/",
     "height": 1000
    },
    "colab_type": "code",
    "executionInfo": {
     "elapsed": 41001812,
     "status": "ok",
     "timestamp": 1570702940111,
     "user": {
      "displayName": "Justin Masui",
      "photoUrl": "https://lh3.googleusercontent.com/a-/AAuE7mAqYNd35ntJR-uokWv_ZbHVaZ0hDMLz_PCI21XWqNM=s64",
      "userId": "13872986104507877375"
     },
     "user_tz": 420
    },
    "id": "jGwXGIXvFhXW",
    "outputId": "e31a13f3-6c0e-43fd-98d9-d49e41bb5ef2"
   },
   "outputs": [],
   "source": [
    "model = tf.keras.Sequential([\n",
    "    tf.keras.layers.Embedding(vocab_size, embedding_dim, input_length=max_length),\n",
    "    tf.keras.layers.Bidirectional(tf.keras.layers.LSTM(128, return_sequences=True)),\n",
    "    tf.keras.layers.Bidirectional(tf.keras.layers.LSTM(128)),\n",
    "    tf.keras.layers.Dense(128, activation='relu'),\n",
    "    tf.keras.layers.Dense(1, activation='sigmoid')\n",
    "])"
   ]
  },
  {
   "cell_type": "code",
   "execution_count": 8,
   "metadata": {},
   "outputs": [],
   "source": [
    "if(load_weights):\n",
    "    print(\"loading weights from: \"+model_file)\n",
    "    model.load_weights(model_file)\n",
    "    print(\"weights: \")\n",
    "    #print(str(model.get_weights()))\n",
    "    print(\"loading weights complete!\")\n",
    "    \n",
    "if(load_checkpoint):\n",
    "    model.load_weights('./'+model_name+'-weights-checkpoint.h5')\n",
    "    print(\"loaded checkpoint\")"
   ]
  },
  {
   "cell_type": "code",
   "execution_count": 9,
   "metadata": {
    "colab": {
     "base_uri": "https://localhost:8080/",
     "height": 1000
    },
    "colab_type": "code",
    "executionInfo": {
     "elapsed": 41001812,
     "status": "ok",
     "timestamp": 1570702940111,
     "user": {
      "displayName": "Justin Masui",
      "photoUrl": "https://lh3.googleusercontent.com/a-/AAuE7mAqYNd35ntJR-uokWv_ZbHVaZ0hDMLz_PCI21XWqNM=s64",
      "userId": "13872986104507877375"
     },
     "user_tz": 420
    },
    "id": "jGwXGIXvFhXW",
    "outputId": "e31a13f3-6c0e-43fd-98d9-d49e41bb5ef2"
   },
   "outputs": [
    {
     "name": "stdout",
     "output_type": "stream",
     "text": [
      "Model: \"sequential\"\n",
      "_________________________________________________________________\n",
      "Layer (type)                 Output Shape              Param #   \n",
      "=================================================================\n",
      "embedding (Embedding)        (None, 120, 16)           160000    \n",
      "_________________________________________________________________\n",
      "bidirectional (Bidirectional (None, 120, 256)          148480    \n",
      "_________________________________________________________________\n",
      "bidirectional_1 (Bidirection (None, 256)               394240    \n",
      "_________________________________________________________________\n",
      "dense (Dense)                (None, 128)               32896     \n",
      "_________________________________________________________________\n",
      "dense_1 (Dense)              (None, 1)                 129       \n",
      "=================================================================\n",
      "Total params: 735,745\n",
      "Trainable params: 735,745\n",
      "Non-trainable params: 0\n",
      "_________________________________________________________________\n"
     ]
    }
   ],
   "source": [
    "model.compile(loss='binary_crossentropy',optimizer='adam',metrics=['accuracy'])\n",
    "model.summary()"
   ]
  },
  {
   "cell_type": "code",
   "execution_count": null,
   "metadata": {
    "colab": {
     "base_uri": "https://localhost:8080/",
     "height": 1000
    },
    "colab_type": "code",
    "executionInfo": {
     "elapsed": 41001812,
     "status": "ok",
     "timestamp": 1570702940111,
     "user": {
      "displayName": "Justin Masui",
      "photoUrl": "https://lh3.googleusercontent.com/a-/AAuE7mAqYNd35ntJR-uokWv_ZbHVaZ0hDMLz_PCI21XWqNM=s64",
      "userId": "13872986104507877375"
     },
     "user_tz": 420
    },
    "id": "jGwXGIXvFhXW",
    "outputId": "e31a13f3-6c0e-43fd-98d9-d49e41bb5ef2",
    "scrolled": true
   },
   "outputs": [
    {
     "name": "stdout",
     "output_type": "stream",
     "text": [
      "WARNING:tensorflow:From /Library/Frameworks/Python.framework/Versions/3.7/lib/python3.7/site-packages/tensorflow/python/ops/math_grad.py:1250: add_dispatch_support.<locals>.wrapper (from tensorflow.python.ops.array_ops) is deprecated and will be removed in a future version.\n",
      "Instructions for updating:\n",
      "Use tf.where in 2.0, which has the same broadcast rule as np.where\n",
      "Train on 1990000 samples, validate on 58353 samples\n",
      "Epoch 1/10\n",
      "1989888/1990000 [============================>.] - ETA: 0s - loss: 0.5486 - accuracy: 0.7174\n",
      "Epoch 00001: val_loss improved from inf to 0.51428, saving model to ./sarcasm_model_v4-weights-checkpoint.h5\n",
      "1990000/1990000 [==============================] - 10025s 5ms/sample - loss: 0.5486 - accuracy: 0.7174 - val_loss: 0.5143 - val_accuracy: 0.7413\n",
      "Epoch 2/10\n",
      "1989888/1990000 [============================>.] - ETA: 0s - loss: 0.5151 - accuracy: 0.7424\n",
      "Epoch 00002: val_loss improved from 0.51428 to 0.49697, saving model to ./sarcasm_model_v4-weights-checkpoint.h5\n",
      "1990000/1990000 [==============================] - 9763s 5ms/sample - loss: 0.5151 - accuracy: 0.7424 - val_loss: 0.4970 - val_accuracy: 0.7542\n",
      "Epoch 3/10\n",
      "1458944/1990000 [====================>.........] - ETA: 43:00 - loss: 0.4930 - accuracy: 0.7581"
     ]
    }
   ],
   "source": [
    "checkpointer = ModelCheckpoint(filepath='./'+model_name+'-weights-checkpoint.h5', verbose=2, save_best_only=True)\n",
    "\n",
    "if(do_training):\n",
    "    history = model.fit(training_padded, \n",
    "                        training_labels, \n",
    "                        batch_size=batch_size, \n",
    "                        epochs=epochs, \n",
    "                        validation_data=(testing_padded, testing_labels),\n",
    "                        callbacks=[checkpointer],\n",
    "                        verbose=1)\n"
   ]
  },
  {
   "cell_type": "code",
   "execution_count": null,
   "metadata": {
    "colab": {
     "base_uri": "https://localhost:8080/",
     "height": 549
    },
    "colab_type": "code",
    "executionInfo": {
     "elapsed": 13196981,
     "status": "ok",
     "timestamp": 1570648203202,
     "user": {
      "displayName": "Justin Masui",
      "photoUrl": "https://lh3.googleusercontent.com/a-/AAuE7mAqYNd35ntJR-uokWv_ZbHVaZ0hDMLz_PCI21XWqNM=s64",
      "userId": "13872986104507877375"
     },
     "user_tz": 420
    },
    "id": "g9DC6dmLF8DC",
    "outputId": "61b16ddd-66ba-4d1c-d0ef-ee410d0f6b6f"
   },
   "outputs": [],
   "source": [
    "if(do_training):\n",
    "    import matplotlib.pyplot as plt\n",
    "\n",
    "    #print(str(history.history))\n",
    "    def plot_graphs(history, string):\n",
    "      plt.plot(history.history[string])\n",
    "      plt.plot(history.history['val_'+string])\n",
    "      plt.xlabel(\"Epochs\")\n",
    "      plt.ylabel(string)\n",
    "      plt.legend([string, 'val_'+string])\n",
    "      plt.show()\n",
    "\n",
    "    plot_graphs(history, 'accuracy')\n",
    "    plot_graphs(history, 'loss')"
   ]
  },
  {
   "cell_type": "code",
   "execution_count": null,
   "metadata": {
    "colab": {},
    "colab_type": "code",
    "id": "7ZEZIUppGhdi"
   },
   "outputs": [],
   "source": [
    "if(save_model):\n",
    "    model.save(model_file)"
   ]
  },
  {
   "cell_type": "code",
   "execution_count": null,
   "metadata": {},
   "outputs": [],
   "source": [
    "# prediction\n",
    "\n",
    "x_pred_sentences = [\"that dress looks so cute on you\", \n",
    "                    \"jeans that make my butt look good\", \n",
    "                    \"phantom menace was the best movie ever\",\n",
    "                    \"i am so over it\",\n",
    "                    \"babies are ugly\",\n",
    "                    \"you are so badass\"]\n",
    "x_padded_sequence = sentencesToPaddedSequences(x_pred_sentences)\n",
    "pred = model.predict(x_padded_sequence)\n",
    "print(pred)"
   ]
  }
 ],
 "metadata": {
  "accelerator": "GPU",
  "colab": {
   "collapsed_sections": [],
   "name": "NLP_w3_sarcasm_bi_lstm.ipynb",
   "provenance": [
    {
     "file_id": "https://github.com/lmoroney/dlaicourse/blob/master/TensorFlow%20In%20Practice/Course%203%20-%20NLP/Course%203%20-%20Week%203%20-%20Lesson%202.ipynb",
     "timestamp": 1570589102457
    },
    {
     "file_id": "1OOzqEhzmkFQOtmEGwMhiLxB_D2osx4eM",
     "timestamp": 1556803950670
    }
   ]
  },
  "kernelspec": {
   "display_name": "Python 3",
   "language": "python",
   "name": "python3"
  },
  "language_info": {
   "codemirror_mode": {
    "name": "ipython",
    "version": 3
   },
   "file_extension": ".py",
   "mimetype": "text/x-python",
   "name": "python",
   "nbconvert_exporter": "python",
   "pygments_lexer": "ipython3",
   "version": "3.7.4"
  }
 },
 "nbformat": 4,
 "nbformat_minor": 1
}
